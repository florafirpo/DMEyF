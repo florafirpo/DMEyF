{
 "cells": [
  {
   "cell_type": "code",
   "execution_count": 10,
   "id": "f432c5b6",
   "metadata": {},
   "outputs": [
    {
     "name": "stdout",
     "output_type": "stream",
     "text": [
      "c:\\Users\\Flor\\Documents\\UBA\\DMEyF\n",
      "['C:\\\\Program Files\\\\WindowsApps\\\\PythonSoftwareFoundation.Python.3.11_3.11.2544.0_x64__qbz5n2kfra8p0\\\\python311.zip', 'C:\\\\Program Files\\\\WindowsApps\\\\PythonSoftwareFoundation.Python.3.11_3.11.2544.0_x64__qbz5n2kfra8p0\\\\DLLs', 'C:\\\\Program Files\\\\WindowsApps\\\\PythonSoftwareFoundation.Python.3.11_3.11.2544.0_x64__qbz5n2kfra8p0\\\\Lib', 'C:\\\\Program Files\\\\WindowsApps\\\\PythonSoftwareFoundation.Python.3.11_3.11.2544.0_x64__qbz5n2kfra8p0', 'c:\\\\Users\\\\Flor\\\\Documents\\\\UBA\\\\DMEyF\\\\venv', '', 'c:\\\\Users\\\\Flor\\\\Documents\\\\UBA\\\\DMEyF\\\\venv\\\\Lib\\\\site-packages', 'c:\\\\Users\\\\Flor\\\\Documents\\\\UBA\\\\DMEyF\\\\venv\\\\Lib\\\\site-packages\\\\win32', 'c:\\\\Users\\\\Flor\\\\Documents\\\\UBA\\\\DMEyF\\\\venv\\\\Lib\\\\site-packages\\\\win32\\\\lib', 'c:\\\\Users\\\\Flor\\\\Documents\\\\UBA\\\\DMEyF\\\\venv\\\\Lib\\\\site-packages\\\\Pythonwin', 'c:\\\\Users\\\\Flor\\\\Documents\\\\UBA\\\\DMEyF', 'c:\\\\Users\\\\Flor\\\\Documents\\\\UBA\\\\DMEyF\\\\data']\n",
      "['.git', '.gitignore', 'consulta_SQL.py', 'data', 'intro.ipynb', 'main.py', 'modelo.ipynb', 'README.md', 'requirements.txt', 'schema.json', 'venv', 'z502_Segmentacion.ipynb', '__pycache__']\n",
      "Ruta agregada: c:\\Users\\Flor\\Documents\\UBA\\DMEyF\\data\n"
     ]
    }
   ],
   "source": [
    "import os, sys\n",
    "print(os.getcwd())   # dónde está parado el notebook\n",
    "print(sys.path)      # lista de rutas donde busca módulos\n",
    "print(os.listdir())  # qué archivos hay en el directorio actual\n",
    "import sys, os\n",
    "\n",
    "# Aseguramos que el directorio del notebook esté en sys.path\n",
    "project_path = os.path.dirname(os.path.abspath(\"data/intro.ipynb\"))\n",
    "if project_path not in sys.path:\n",
    "    sys.path.append(project_path)\n",
    "\n",
    "\n",
    "# Ruta absoluta a la carpeta data\n",
    "data_path = r\"C:\\Users\\Flor\\Documents\\UBA\\DMEyF\\data\\competencia_01_fe.csv\"\n",
    "\n",
    "\n",
    "print(\"Ruta agregada:\", project_path)\n",
    "\n",
    "import polars as pl\n"
   ]
  },
  {
   "cell_type": "code",
   "execution_count": 12,
   "id": "42a92379",
   "metadata": {},
   "outputs": [],
   "source": [
    "# Supongamos que el archivo se llama \"datos.csv\"\n",
    "df = pl.read_csv(\"data/competencia_01_con_clase_ternaria.csv\")\n"
   ]
  },
  {
   "cell_type": "code",
   "execution_count": 13,
   "id": "9b94fbb6",
   "metadata": {},
   "outputs": [
    {
     "name": "stdout",
     "output_type": "stream",
     "text": [
      "shape: (2, 155)\n",
      "┌───────────┬──────────┬───────────┬───────────┬───┬───────────┬───────────┬───────────┬───────────┐\n",
      "│ numero_de ┆ foto_mes ┆ active_qu ┆ cliente_v ┆ … ┆ Visa_ccon ┆ Visa_cade ┆ Visa_mpag ┆ clase_ter │\n",
      "│ _cliente  ┆ ---      ┆ arter     ┆ ip        ┆   ┆ sumos     ┆ lantosefe ┆ ominimo   ┆ naria     │\n",
      "│ ---       ┆ i64      ┆ ---       ┆ ---       ┆   ┆ ---       ┆ ctivo     ┆ ---       ┆ ---       │\n",
      "│ i64       ┆          ┆ i64       ┆ i64       ┆   ┆ i64       ┆ ---       ┆ f64       ┆ str       │\n",
      "│           ┆          ┆           ┆           ┆   ┆           ┆ i64       ┆           ┆           │\n",
      "╞═══════════╪══════════╪═══════════╪═══════════╪═══╪═══════════╪═══════════╪═══════════╪═══════════╡\n",
      "│ 930544172 ┆ 202101   ┆ 1         ┆ 0         ┆ … ┆ 11        ┆ 0         ┆ 1137.81   ┆ BAJA+2    │\n",
      "│ 930544172 ┆ 202102   ┆ 1         ┆ 0         ┆ … ┆ 9         ┆ 0         ┆ 1794.69   ┆ BAJA+1    │\n",
      "└───────────┴──────────┴───────────┴───────────┴───┴───────────┴───────────┴───────────┴───────────┘\n"
     ]
    }
   ],
   "source": [
    "import polars as pl\n",
    "# Mostrar todos los registros del cliente 930544172\n",
    "cliente_id = 930544172\n",
    "\n",
    "df_cliente = df.filter(pl.col(\"numero_de_cliente\") == cliente_id)\n",
    "\n",
    "print(df_cliente)"
   ]
  },
  {
   "cell_type": "code",
   "execution_count": 14,
   "id": "eb92f2b6",
   "metadata": {},
   "outputs": [],
   "source": [
    "ganancia_acierto = 780000\n",
    "costo_estimulo = 20000"
   ]
  },
  {
   "cell_type": "code",
   "execution_count": 15,
   "id": "89012870",
   "metadata": {},
   "outputs": [],
   "source": [
    "data = df.filter(pl.col('foto_mes') == 202104)\n",
    "\n",
    "X = data.drop('clase_ternaria')\n",
    "y = data['clase_ternaria']"
   ]
  },
  {
   "cell_type": "code",
   "execution_count": 16,
   "id": "7ad6ac78",
   "metadata": {},
   "outputs": [
    {
     "name": "stdout",
     "output_type": "stream",
     "text": [
      "shape: (3, 3)\n",
      "┌────────────────┬────────────┬────────────┐\n",
      "│ clase_ternaria ┆ proportion ┆ porcentaje │\n",
      "│ ---            ┆ ---        ┆ ---        │\n",
      "│ str            ┆ f64        ┆ f64        │\n",
      "╞════════════════╪════════════╪════════════╡\n",
      "│ CONTINUA       ┆ 0.987241   ┆ 98.724131  │\n",
      "│ BAJA+2         ┆ 0.006921   ┆ 0.69209    │\n",
      "│ BAJA+1         ┆ 0.005838   ┆ 0.583779   │\n",
      "└────────────────┴────────────┴────────────┘\n"
     ]
    }
   ],
   "source": [
    "tabla_valores = (\n",
    "    data[\"clase_ternaria\"]\n",
    "    .value_counts(normalize=True)\n",
    "    .with_columns(\n",
    "        (pl.col(\"proportion\") * 100).alias(\"porcentaje\")\n",
    "    )\n",
    ")\n",
    "\n",
    "print(tabla_valores)"
   ]
  },
  {
   "cell_type": "code",
   "execution_count": 17,
   "id": "8008a0be",
   "metadata": {},
   "outputs": [
    {
     "data": {
      "text/html": [
       "<div><style>\n",
       ".dataframe > thead > tr,\n",
       ".dataframe > tbody > tr {\n",
       "  text-align: right;\n",
       "  white-space: pre-wrap;\n",
       "}\n",
       "</style>\n",
       "<small>shape: (10, 459)</small><table border=\"1\" class=\"dataframe\"><thead><tr><th>numero_de_cliente</th><th>foto_mes</th><th>active_quarter</th><th>cliente_vip</th><th>internet</th><th>cliente_edad</th><th>cliente_antiguedad</th><th>mrentabilidad</th><th>mrentabilidad_annual</th><th>mcomisiones</th><th>mactivos_margen</th><th>mpasivos_margen</th><th>cproductos</th><th>tcuentas</th><th>ccuenta_corriente</th><th>mcuenta_corriente_adicional</th><th>mcuenta_corriente</th><th>ccaja_ahorro</th><th>mcaja_ahorro</th><th>mcaja_ahorro_adicional</th><th>mcaja_ahorro_dolares</th><th>cdescubierto_preacordado</th><th>mcuentas_saldo</th><th>ctarjeta_debito</th><th>ctarjeta_debito_transacciones</th><th>mautoservicio</th><th>ctarjeta_visa</th><th>ctarjeta_visa_transacciones</th><th>mtarjeta_visa_consumo</th><th>ctarjeta_master</th><th>ctarjeta_master_transacciones</th><th>mtarjeta_master_consumo</th><th>cprestamos_personales</th><th>mprestamos_personales</th><th>cprestamos_prendarios</th><th>mprestamos_prendarios</th><th>cprestamos_hipotecarios</th><th>&hellip;</th><th>Master_msaldopesos_max</th><th>Master_msaldodolares_max</th><th>Master_mconsumospesos_max</th><th>Master_mconsumosdolares_max</th><th>Master_mlimitecompra_max</th><th>Master_madelantopesos_max</th><th>Master_madelantodolares_max</th><th>Master_fultimo_cierre_max</th><th>Master_mpagado_max</th><th>Master_mpagospesos_max</th><th>Master_mpagosdolares_max</th><th>Master_fechaalta_max</th><th>Master_mconsumototal_max</th><th>Master_cconsumos_max</th><th>Master_cadelantosefectivo_max</th><th>Master_mpagominimo_max</th><th>Visa_delinquency_max</th><th>Visa_status_max</th><th>Visa_mfinanciacion_limite_max</th><th>Visa_Fvencimiento_max</th><th>Visa_msaldototal_max</th><th>Visa_msaldopesos_max</th><th>Visa_msaldodolares_max</th><th>Visa_mconsumospesos_max</th><th>Visa_mconsumosdolares_max</th><th>Visa_mlimitecompra_max</th><th>Visa_madelantopesos_max</th><th>Visa_madelantodolares_max</th><th>Visa_fultimo_cierre_max</th><th>Visa_mpagado_max</th><th>Visa_mpagospesos_max</th><th>Visa_mpagosdolares_max</th><th>Visa_fechaalta_max</th><th>Visa_mconsumototal_max</th><th>Visa_cconsumos_max</th><th>Visa_cadelantosefectivo_max</th><th>Visa_mpagominimo_max</th></tr><tr><td>i64</td><td>i64</td><td>i64</td><td>i64</td><td>i64</td><td>i64</td><td>i64</td><td>f64</td><td>f64</td><td>f64</td><td>f64</td><td>f64</td><td>i64</td><td>i64</td><td>i64</td><td>f64</td><td>f64</td><td>i64</td><td>f64</td><td>f64</td><td>f64</td><td>i64</td><td>f64</td><td>i64</td><td>i64</td><td>f64</td><td>i64</td><td>i64</td><td>f64</td><td>i64</td><td>i64</td><td>f64</td><td>i64</td><td>f64</td><td>i64</td><td>f64</td><td>i64</td><td>&hellip;</td><td>f64</td><td>f64</td><td>f64</td><td>f64</td><td>f64</td><td>f64</td><td>f64</td><td>i64</td><td>f64</td><td>f64</td><td>f64</td><td>i64</td><td>f64</td><td>i64</td><td>i64</td><td>f64</td><td>i64</td><td>i64</td><td>f64</td><td>i64</td><td>f64</td><td>f64</td><td>f64</td><td>f64</td><td>f64</td><td>f64</td><td>f64</td><td>f64</td><td>i64</td><td>f64</td><td>f64</td><td>f64</td><td>i64</td><td>f64</td><td>i64</td><td>i64</td><td>f64</td></tr></thead><tbody><tr><td>249221323</td><td>202101</td><td>1</td><td>0</td><td>0</td><td>46</td><td>93</td><td>3070.24</td><td>15691.1</td><td>1278.11</td><td>890.96</td><td>636.86</td><td>8</td><td>1</td><td>1</td><td>0.0</td><td>-314.48</td><td>2</td><td>25761.53</td><td>0.0</td><td>10240.09</td><td>1</td><td>22890.77</td><td>1</td><td>5</td><td>35013.67</td><td>1</td><td>10</td><td>15929.92</td><td>1</td><td>13</td><td>27145.02</td><td>0</td><td>0.0</td><td>0</td><td>0.0</td><td>0</td><td>&hellip;</td><td>38809.91</td><td>5190.65</td><td>30992.11</td><td>58.6</td><td>70380.0</td><td>0.0</td><td>0.0</td><td>5</td><td>42765.48</td><td>-10385.48</td><td>59.3</td><td>2964</td><td>30992.11</td><td>17</td><td>0</td><td>9290.16</td><td>0</td><td>0</td><td>63342.0</td><td>-699</td><td>43251.02</td><td>50733.44</td><td>0.0</td><td>16101.68</td><td>1.77</td><td>70380.0</td><td>0.0</td><td>0.0</td><td>5</td><td>50733.44</td><td>0.0</td><td>0.0</td><td>2964</td><td>16101.68</td><td>8</td><td>0</td><td>9559.95</td></tr><tr><td>249221323</td><td>202102</td><td>1</td><td>0</td><td>0</td><td>46</td><td>94</td><td>3385.85</td><td>19103.66</td><td>1230.47</td><td>1631.3</td><td>206.19</td><td>8</td><td>1</td><td>1</td><td>0.0</td><td>0.0</td><td>2</td><td>8116.43</td><td>0.0</td><td>10536.47</td><td>1</td><td>10629.59</td><td>1</td><td>1</td><td>2315.5</td><td>1</td><td>11</td><td>17285.39</td><td>1</td><td>22</td><td>25713.45</td><td>0</td><td>0.0</td><td>0</td><td>0.0</td><td>0</td><td>&hellip;</td><td>38809.91</td><td>5190.65</td><td>30992.11</td><td>58.6</td><td>70380.0</td><td>0.0</td><td>0.0</td><td>5</td><td>42765.48</td><td>-10385.48</td><td>59.3</td><td>2964</td><td>30992.11</td><td>17</td><td>0</td><td>9290.16</td><td>0</td><td>0</td><td>63342.0</td><td>-699</td><td>43251.02</td><td>50733.44</td><td>0.0</td><td>16101.68</td><td>1.77</td><td>70380.0</td><td>0.0</td><td>0.0</td><td>5</td><td>50733.44</td><td>0.0</td><td>0.0</td><td>2964</td><td>16101.68</td><td>8</td><td>0</td><td>9559.95</td></tr><tr><td>249221323</td><td>202103</td><td>1</td><td>0</td><td>0</td><td>46</td><td>95</td><td>5341.18</td><td>24020.21</td><td>755.85</td><td>2768.95</td><td>1140.11</td><td>8</td><td>1</td><td>1</td><td>0.0</td><td>-3933.18</td><td>2</td><td>4015.77</td><td>0.0</td><td>10789.84</td><td>1</td><td>4650.31</td><td>1</td><td>0</td><td>0.0</td><td>1</td><td>10</td><td>18976.09</td><td>1</td><td>16</td><td>45821.57</td><td>0</td><td>0.0</td><td>0</td><td>0.0</td><td>0</td><td>&hellip;</td><td>38809.91</td><td>5190.65</td><td>30992.11</td><td>58.6</td><td>70380.0</td><td>0.0</td><td>0.0</td><td>5</td><td>42765.48</td><td>-10385.48</td><td>59.3</td><td>2964</td><td>30992.11</td><td>17</td><td>0</td><td>9290.16</td><td>0</td><td>0</td><td>63342.0</td><td>-699</td><td>43251.02</td><td>50733.44</td><td>0.0</td><td>16101.68</td><td>1.77</td><td>70380.0</td><td>0.0</td><td>0.0</td><td>5</td><td>50733.44</td><td>0.0</td><td>0.0</td><td>2964</td><td>16101.68</td><td>8</td><td>0</td><td>9559.95</td></tr><tr><td>249221323</td><td>202104</td><td>1</td><td>0</td><td>0</td><td>46</td><td>96</td><td>5356.62</td><td>29189.81</td><td>1470.2</td><td>2627.7</td><td>685.53</td><td>8</td><td>1</td><td>1</td><td>0.0</td><td>-1960.57</td><td>2</td><td>2136.11</td><td>0.0</td><td>10974.0</td><td>1</td><td>9358.46</td><td>1</td><td>0</td><td>0.0</td><td>1</td><td>10</td><td>19201.77</td><td>1</td><td>18</td><td>17373.08</td><td>0</td><td>0.0</td><td>0</td><td>0.0</td><td>0</td><td>&hellip;</td><td>38809.91</td><td>5190.65</td><td>30992.11</td><td>58.6</td><td>70380.0</td><td>0.0</td><td>0.0</td><td>5</td><td>42765.48</td><td>-10385.48</td><td>59.3</td><td>2964</td><td>30992.11</td><td>17</td><td>0</td><td>9290.16</td><td>0</td><td>0</td><td>63342.0</td><td>-699</td><td>43251.02</td><td>50733.44</td><td>0.0</td><td>16101.68</td><td>1.77</td><td>70380.0</td><td>0.0</td><td>0.0</td><td>5</td><td>50733.44</td><td>0.0</td><td>0.0</td><td>2964</td><td>16101.68</td><td>8</td><td>0</td><td>9559.95</td></tr><tr><td>249221323</td><td>202105</td><td>1</td><td>0</td><td>0</td><td>46</td><td>97</td><td>2489.25</td><td>31505.78</td><td>1008.8</td><td>952.16</td><td>309.95</td><td>8</td><td>1</td><td>1</td><td>0.0</td><td>-263.5</td><td>2</td><td>6204.56</td><td>0.0</td><td>11106.55</td><td>1</td><td>13240.63</td><td>1</td><td>1</td><td>2216.97</td><td>1</td><td>9</td><td>19278.3</td><td>1</td><td>14</td><td>16708.69</td><td>0</td><td>0.0</td><td>0</td><td>0.0</td><td>0</td><td>&hellip;</td><td>38809.91</td><td>5190.65</td><td>30992.11</td><td>58.6</td><td>70380.0</td><td>0.0</td><td>0.0</td><td>5</td><td>42765.48</td><td>-10385.48</td><td>59.3</td><td>2964</td><td>30992.11</td><td>17</td><td>0</td><td>9290.16</td><td>0</td><td>0</td><td>63342.0</td><td>-699</td><td>43251.02</td><td>50733.44</td><td>0.0</td><td>16101.68</td><td>1.77</td><td>70380.0</td><td>0.0</td><td>0.0</td><td>5</td><td>50733.44</td><td>0.0</td><td>0.0</td><td>2964</td><td>16101.68</td><td>8</td><td>0</td><td>9559.95</td></tr><tr><td>249221323</td><td>202106</td><td>1</td><td>0</td><td>0</td><td>46</td><td>98</td><td>2238.31</td><td>32108.79</td><td>1227.27</td><td>60.53</td><td>801.4</td><td>8</td><td>1</td><td>1</td><td>0.0</td><td>-694.4</td><td>2</td><td>16813.45</td><td>0.0</td><td>11228.74</td><td>1</td><td>8803.89</td><td>1</td><td>0</td><td>0.0</td><td>1</td><td>10</td><td>26328.72</td><td>1</td><td>20</td><td>36650.42</td><td>0</td><td>0.0</td><td>0</td><td>0.0</td><td>0</td><td>&hellip;</td><td>38809.91</td><td>5190.65</td><td>30992.11</td><td>58.6</td><td>70380.0</td><td>0.0</td><td>0.0</td><td>5</td><td>42765.48</td><td>-10385.48</td><td>59.3</td><td>2964</td><td>30992.11</td><td>17</td><td>0</td><td>9290.16</td><td>0</td><td>0</td><td>63342.0</td><td>-699</td><td>43251.02</td><td>50733.44</td><td>0.0</td><td>16101.68</td><td>1.77</td><td>70380.0</td><td>0.0</td><td>0.0</td><td>5</td><td>50733.44</td><td>0.0</td><td>0.0</td><td>2964</td><td>16101.68</td><td>8</td><td>0</td><td>9559.95</td></tr><tr><td>249227600</td><td>202101</td><td>1</td><td>0</td><td>0</td><td>42</td><td>278</td><td>496.21</td><td>15321.8</td><td>418.97</td><td>-1138.55</td><td>1204.4</td><td>9</td><td>1</td><td>1</td><td>0.0</td><td>0.0</td><td>2</td><td>84736.17</td><td>0.0</td><td>30617.86</td><td>1</td><td>157762.37</td><td>1</td><td>19</td><td>20489.02</td><td>1</td><td>11</td><td>13110.17</td><td>1</td><td>0</td><td>0.0</td><td>1</td><td>85831.92</td><td>0</td><td>0.0</td><td>0</td><td>&hellip;</td><td>0.0</td><td>0.0</td><td>null</td><td>null</td><td>84456.0</td><td>null</td><td>null</td><td>5</td><td>0.0</td><td>null</td><td>null</td><td>3674</td><td>null</td><td>null</td><td>null</td><td>0.0</td><td>0</td><td>0</td><td>152020.8</td><td>-913</td><td>16436.24</td><td>19279.7</td><td>0.0</td><td>11947.53</td><td>5.02</td><td>168912.0</td><td>0.0</td><td>0.0</td><td>12</td><td>16899.86</td><td>-9662.51</td><td>0.0</td><td>5691</td><td>11947.53</td><td>10</td><td>0</td><td>2803.47</td></tr><tr><td>249227600</td><td>202102</td><td>1</td><td>0</td><td>0</td><td>42</td><td>279</td><td>723.9</td><td>14653.52</td><td>274.82</td><td>-819.21</td><td>1202.06</td><td>9</td><td>1</td><td>1</td><td>0.0</td><td>0.0</td><td>2</td><td>95070.92</td><td>0.0</td><td>31504.04</td><td>1</td><td>143863.88</td><td>1</td><td>16</td><td>15232.36</td><td>1</td><td>13</td><td>17372.85</td><td>1</td><td>0</td><td>0.0</td><td>1</td><td>84412.35</td><td>0</td><td>0.0</td><td>0</td><td>&hellip;</td><td>0.0</td><td>0.0</td><td>null</td><td>null</td><td>84456.0</td><td>null</td><td>null</td><td>5</td><td>0.0</td><td>null</td><td>null</td><td>3674</td><td>null</td><td>null</td><td>null</td><td>0.0</td><td>0</td><td>0</td><td>152020.8</td><td>-913</td><td>16436.24</td><td>19279.7</td><td>0.0</td><td>11947.53</td><td>5.02</td><td>168912.0</td><td>0.0</td><td>0.0</td><td>12</td><td>16899.86</td><td>-9662.51</td><td>0.0</td><td>5691</td><td>11947.53</td><td>10</td><td>0</td><td>2803.47</td></tr><tr><td>249227600</td><td>202103</td><td>1</td><td>0</td><td>0</td><td>42</td><td>280</td><td>788.0</td><td>13801.08</td><td>456.46</td><td>-579.33</td><td>861.98</td><td>9</td><td>1</td><td>1</td><td>0.0</td><td>0.0</td><td>2</td><td>58841.17</td><td>0.0</td><td>32261.61</td><td>1</td><td>111242.8</td><td>1</td><td>34</td><td>32528.87</td><td>1</td><td>10</td><td>13502.49</td><td>1</td><td>0</td><td>0.0</td><td>1</td><td>82950.18</td><td>0</td><td>0.0</td><td>0</td><td>&hellip;</td><td>0.0</td><td>0.0</td><td>null</td><td>null</td><td>84456.0</td><td>null</td><td>null</td><td>5</td><td>0.0</td><td>null</td><td>null</td><td>3674</td><td>null</td><td>null</td><td>null</td><td>0.0</td><td>0</td><td>0</td><td>152020.8</td><td>-913</td><td>16436.24</td><td>19279.7</td><td>0.0</td><td>11947.53</td><td>5.02</td><td>168912.0</td><td>0.0</td><td>0.0</td><td>12</td><td>16899.86</td><td>-9662.51</td><td>0.0</td><td>5691</td><td>11947.53</td><td>10</td><td>0</td><td>2803.47</td></tr><tr><td>249227600</td><td>202104</td><td>1</td><td>0</td><td>0</td><td>42</td><td>281</td><td>1113.27</td><td>14121.64</td><td>746.84</td><td>-339.82</td><td>652.2</td><td>9</td><td>1</td><td>1</td><td>0.0</td><td>0.0</td><td>2</td><td>40930.12</td><td>0.0</td><td>32812.25</td><td>1</td><td>117657.46</td><td>1</td><td>23</td><td>26425.87</td><td>1</td><td>15</td><td>18749.41</td><td>1</td><td>0</td><td>0.0</td><td>1</td><td>81444.15</td><td>0</td><td>0.0</td><td>0</td><td>&hellip;</td><td>0.0</td><td>0.0</td><td>null</td><td>null</td><td>84456.0</td><td>null</td><td>null</td><td>5</td><td>0.0</td><td>null</td><td>null</td><td>3674</td><td>null</td><td>null</td><td>null</td><td>0.0</td><td>0</td><td>0</td><td>152020.8</td><td>-913</td><td>16436.24</td><td>19279.7</td><td>0.0</td><td>11947.53</td><td>5.02</td><td>168912.0</td><td>0.0</td><td>0.0</td><td>12</td><td>16899.86</td><td>-9662.51</td><td>0.0</td><td>5691</td><td>11947.53</td><td>10</td><td>0</td><td>2803.47</td></tr></tbody></table></div>"
      ],
      "text/plain": [
       "shape: (10, 459)\n",
       "┌───────────┬──────────┬───────────┬───────────┬───┬───────────┬───────────┬───────────┬───────────┐\n",
       "│ numero_de ┆ foto_mes ┆ active_qu ┆ cliente_v ┆ … ┆ Visa_mcon ┆ Visa_ccon ┆ Visa_cade ┆ Visa_mpag │\n",
       "│ _cliente  ┆ ---      ┆ arter     ┆ ip        ┆   ┆ sumototal ┆ sumos_max ┆ lantosefe ┆ ominimo_m │\n",
       "│ ---       ┆ i64      ┆ ---       ┆ ---       ┆   ┆ _max      ┆ ---       ┆ ctivo_max ┆ ax        │\n",
       "│ i64       ┆          ┆ i64       ┆ i64       ┆   ┆ ---       ┆ i64       ┆ ---       ┆ ---       │\n",
       "│           ┆          ┆           ┆           ┆   ┆ f64       ┆           ┆ i64       ┆ f64       │\n",
       "╞═══════════╪══════════╪═══════════╪═══════════╪═══╪═══════════╪═══════════╪═══════════╪═══════════╡\n",
       "│ 249221323 ┆ 202101   ┆ 1         ┆ 0         ┆ … ┆ 16101.68  ┆ 8         ┆ 0         ┆ 9559.95   │\n",
       "│ 249221323 ┆ 202102   ┆ 1         ┆ 0         ┆ … ┆ 16101.68  ┆ 8         ┆ 0         ┆ 9559.95   │\n",
       "│ 249221323 ┆ 202103   ┆ 1         ┆ 0         ┆ … ┆ 16101.68  ┆ 8         ┆ 0         ┆ 9559.95   │\n",
       "│ 249221323 ┆ 202104   ┆ 1         ┆ 0         ┆ … ┆ 16101.68  ┆ 8         ┆ 0         ┆ 9559.95   │\n",
       "│ 249221323 ┆ 202105   ┆ 1         ┆ 0         ┆ … ┆ 16101.68  ┆ 8         ┆ 0         ┆ 9559.95   │\n",
       "│ 249221323 ┆ 202106   ┆ 1         ┆ 0         ┆ … ┆ 16101.68  ┆ 8         ┆ 0         ┆ 9559.95   │\n",
       "│ 249227600 ┆ 202101   ┆ 1         ┆ 0         ┆ … ┆ 11947.53  ┆ 10        ┆ 0         ┆ 2803.47   │\n",
       "│ 249227600 ┆ 202102   ┆ 1         ┆ 0         ┆ … ┆ 11947.53  ┆ 10        ┆ 0         ┆ 2803.47   │\n",
       "│ 249227600 ┆ 202103   ┆ 1         ┆ 0         ┆ … ┆ 11947.53  ┆ 10        ┆ 0         ┆ 2803.47   │\n",
       "│ 249227600 ┆ 202104   ┆ 1         ┆ 0         ┆ … ┆ 11947.53  ┆ 10        ┆ 0         ┆ 2803.47   │\n",
       "└───────────┴──────────┴───────────┴───────────┴───┴───────────┴───────────┴───────────┴───────────┘"
      ]
     },
     "execution_count": 17,
     "metadata": {},
     "output_type": "execute_result"
    }
   ],
   "source": [
    "# Supongamos que tu DataFrame se llama df\n",
    "# Detectar automáticamente columnas numéricas\n",
    "numeric_cols = [\n",
    "    col for col, dtype in df.schema.items()\n",
    "    if dtype in [pl.Int8, pl.Int16, pl.Int32, pl.Int64, pl.Float32, pl.Float64]\n",
    "]\n",
    "\n",
    "# Agregar columnas de min y max por cliente usando over\n",
    "df_final = df.with_columns([\n",
    "    pl.min(col).over(\"numero_de_cliente\").alias(f\"{col}_min\") for col in numeric_cols\n",
    "] + [\n",
    "    pl.max(col).over(\"numero_de_cliente\").alias(f\"{col}_max\") for col in numeric_cols\n",
    "])\n",
    "\n",
    "df_final.head(10)"
   ]
  },
  {
   "cell_type": "code",
   "execution_count": null,
   "id": "c7d9143f",
   "metadata": {},
   "outputs": [],
   "source": [
    "\n",
    "# Asegurate de que foto_mes sea numérica o tipo entero\n",
    "df = df.with_columns(pl.col(\"foto_mes\").cast(pl.Int64))\n",
    "\n",
    "# Detectar automáticamente columnas numéricas (ya lo tenías)\n",
    "numeric_cols = [\n",
    "    col for col, dtype in df.schema.items()\n",
    "    if dtype in [pl.Int8, pl.Int16, pl.Int32, pl.Int64, pl.Float32, pl.Float64]\n",
    "]\n",
    "\n",
    "# Calcular diferencia último mes - mes anterior por cliente\n",
    "diff_cols = [\n",
    "    (pl.col(col) - pl.col(col).shift(1).over(\"numero_de_cliente\")).alias(f\"{col}_diff\")\n",
    "    for col in numeric_cols\n",
    "]\n",
    "\n",
    "# Agregar estas columnas al df_final\n",
    "df_final = df_final.with_columns(diff_cols)\n",
    "\n",
    "df_final.head(10)"
   ]
  },
  {
   "cell_type": "code",
   "execution_count": null,
   "id": "faa6be46",
   "metadata": {},
   "outputs": [
    {
     "data": {
      "text/html": [
       "<div><style>\n",
       ".dataframe > thead > tr,\n",
       ".dataframe > tbody > tr {\n",
       "  text-align: right;\n",
       "  white-space: pre-wrap;\n",
       "}\n",
       "</style>\n",
       "<small>shape: (10, 763)</small><table border=\"1\" class=\"dataframe\"><thead><tr><th>numero_de_cliente</th><th>foto_mes</th><th>active_quarter</th><th>cliente_vip</th><th>internet</th><th>cliente_edad</th><th>cliente_antiguedad</th><th>mrentabilidad</th><th>mrentabilidad_annual</th><th>mcomisiones</th><th>mactivos_margen</th><th>mpasivos_margen</th><th>cproductos</th><th>tcuentas</th><th>ccuenta_corriente</th><th>mcuenta_corriente_adicional</th><th>mcuenta_corriente</th><th>ccaja_ahorro</th><th>mcaja_ahorro</th><th>mcaja_ahorro_adicional</th><th>mcaja_ahorro_dolares</th><th>cdescubierto_preacordado</th><th>mcuentas_saldo</th><th>ctarjeta_debito</th><th>ctarjeta_debito_transacciones</th><th>mautoservicio</th><th>ctarjeta_visa</th><th>ctarjeta_visa_transacciones</th><th>mtarjeta_visa_consumo</th><th>ctarjeta_master</th><th>ctarjeta_master_transacciones</th><th>mtarjeta_master_consumo</th><th>cprestamos_personales</th><th>mprestamos_personales</th><th>cprestamos_prendarios</th><th>mprestamos_prendarios</th><th>cprestamos_hipotecarios</th><th>&hellip;</th><th>Master_msaldopesos_diff2</th><th>Master_msaldodolares_diff2</th><th>Master_mconsumospesos_diff2</th><th>Master_mconsumosdolares_diff2</th><th>Master_mlimitecompra_diff2</th><th>Master_madelantopesos_diff2</th><th>Master_madelantodolares_diff2</th><th>Master_fultimo_cierre_diff2</th><th>Master_mpagado_diff2</th><th>Master_mpagospesos_diff2</th><th>Master_mpagosdolares_diff2</th><th>Master_fechaalta_diff2</th><th>Master_mconsumototal_diff2</th><th>Master_cconsumos_diff2</th><th>Master_cadelantosefectivo_diff2</th><th>Master_mpagominimo_diff2</th><th>Visa_delinquency_diff2</th><th>Visa_status_diff2</th><th>Visa_mfinanciacion_limite_diff2</th><th>Visa_Fvencimiento_diff2</th><th>Visa_msaldototal_diff2</th><th>Visa_msaldopesos_diff2</th><th>Visa_msaldodolares_diff2</th><th>Visa_mconsumospesos_diff2</th><th>Visa_mconsumosdolares_diff2</th><th>Visa_mlimitecompra_diff2</th><th>Visa_madelantopesos_diff2</th><th>Visa_madelantodolares_diff2</th><th>Visa_fultimo_cierre_diff2</th><th>Visa_mpagado_diff2</th><th>Visa_mpagospesos_diff2</th><th>Visa_mpagosdolares_diff2</th><th>Visa_fechaalta_diff2</th><th>Visa_mconsumototal_diff2</th><th>Visa_cconsumos_diff2</th><th>Visa_cadelantosefectivo_diff2</th><th>Visa_mpagominimo_diff2</th></tr><tr><td>i64</td><td>i64</td><td>i64</td><td>i64</td><td>i64</td><td>i64</td><td>i64</td><td>f64</td><td>f64</td><td>f64</td><td>f64</td><td>f64</td><td>i64</td><td>i64</td><td>i64</td><td>f64</td><td>f64</td><td>i64</td><td>f64</td><td>f64</td><td>f64</td><td>i64</td><td>f64</td><td>i64</td><td>i64</td><td>f64</td><td>i64</td><td>i64</td><td>f64</td><td>i64</td><td>i64</td><td>f64</td><td>i64</td><td>f64</td><td>i64</td><td>f64</td><td>i64</td><td>&hellip;</td><td>f64</td><td>f64</td><td>f64</td><td>f64</td><td>f64</td><td>f64</td><td>f64</td><td>i64</td><td>f64</td><td>f64</td><td>f64</td><td>i64</td><td>f64</td><td>i64</td><td>i64</td><td>f64</td><td>i64</td><td>i64</td><td>f64</td><td>i64</td><td>f64</td><td>f64</td><td>f64</td><td>f64</td><td>f64</td><td>f64</td><td>f64</td><td>f64</td><td>i64</td><td>f64</td><td>f64</td><td>f64</td><td>i64</td><td>f64</td><td>i64</td><td>i64</td><td>f64</td></tr></thead><tbody><tr><td>249221323</td><td>202101</td><td>1</td><td>0</td><td>0</td><td>46</td><td>93</td><td>3070.24</td><td>15691.1</td><td>1278.11</td><td>890.96</td><td>636.86</td><td>8</td><td>1</td><td>1</td><td>0.0</td><td>-314.48</td><td>2</td><td>25761.53</td><td>0.0</td><td>10240.09</td><td>1</td><td>22890.77</td><td>1</td><td>5</td><td>35013.67</td><td>1</td><td>10</td><td>15929.92</td><td>1</td><td>13</td><td>27145.02</td><td>0</td><td>0.0</td><td>0</td><td>0.0</td><td>0</td><td>&hellip;</td><td>null</td><td>null</td><td>null</td><td>null</td><td>null</td><td>null</td><td>null</td><td>null</td><td>null</td><td>null</td><td>null</td><td>null</td><td>null</td><td>null</td><td>null</td><td>null</td><td>null</td><td>null</td><td>null</td><td>null</td><td>null</td><td>null</td><td>null</td><td>null</td><td>null</td><td>null</td><td>null</td><td>null</td><td>null</td><td>null</td><td>null</td><td>null</td><td>null</td><td>null</td><td>null</td><td>null</td><td>null</td></tr><tr><td>249221323</td><td>202102</td><td>1</td><td>0</td><td>0</td><td>46</td><td>94</td><td>3385.85</td><td>19103.66</td><td>1230.47</td><td>1631.3</td><td>206.19</td><td>8</td><td>1</td><td>1</td><td>0.0</td><td>0.0</td><td>2</td><td>8116.43</td><td>0.0</td><td>10536.47</td><td>1</td><td>10629.59</td><td>1</td><td>1</td><td>2315.5</td><td>1</td><td>11</td><td>17285.39</td><td>1</td><td>22</td><td>25713.45</td><td>0</td><td>0.0</td><td>0</td><td>0.0</td><td>0</td><td>&hellip;</td><td>null</td><td>null</td><td>null</td><td>null</td><td>null</td><td>null</td><td>null</td><td>null</td><td>null</td><td>null</td><td>null</td><td>null</td><td>null</td><td>null</td><td>null</td><td>null</td><td>null</td><td>null</td><td>null</td><td>null</td><td>null</td><td>null</td><td>null</td><td>null</td><td>null</td><td>null</td><td>null</td><td>null</td><td>null</td><td>null</td><td>null</td><td>null</td><td>null</td><td>null</td><td>null</td><td>null</td><td>null</td></tr><tr><td>249221323</td><td>202103</td><td>1</td><td>0</td><td>0</td><td>46</td><td>95</td><td>5341.18</td><td>24020.21</td><td>755.85</td><td>2768.95</td><td>1140.11</td><td>8</td><td>1</td><td>1</td><td>0.0</td><td>-3933.18</td><td>2</td><td>4015.77</td><td>0.0</td><td>10789.84</td><td>1</td><td>4650.31</td><td>1</td><td>0</td><td>0.0</td><td>1</td><td>10</td><td>18976.09</td><td>1</td><td>16</td><td>45821.57</td><td>0</td><td>0.0</td><td>0</td><td>0.0</td><td>0</td><td>&hellip;</td><td>1737.9</td><td>-1463.09</td><td>20138.76</td><td>-18.77</td><td>0.0</td><td>0.0</td><td>0.0</td><td>-3</td><td>0.0</td><td>-32149.17</td><td>57.48</td><td>59</td><td>20138.76</td><td>4</td><td>0</td><td>-9290.16</td><td>0</td><td>0</td><td>0.0</td><td>59</td><td>-45704.08</td><td>-53610.87</td><td>0.0</td><td>3959.62</td><td>0.17</td><td>0.0</td><td>0.0</td><td>0.0</td><td>-3</td><td>0.0</td><td>-29899.97</td><td>0.0</td><td>59</td><td>3959.62</td><td>1</td><td>0</td><td>-9559.95</td></tr><tr><td>249221323</td><td>202104</td><td>1</td><td>0</td><td>0</td><td>46</td><td>96</td><td>5356.62</td><td>29189.81</td><td>1470.2</td><td>2627.7</td><td>685.53</td><td>8</td><td>1</td><td>1</td><td>0.0</td><td>-1960.57</td><td>2</td><td>2136.11</td><td>0.0</td><td>10974.0</td><td>1</td><td>9358.46</td><td>1</td><td>0</td><td>0.0</td><td>1</td><td>10</td><td>19201.77</td><td>1</td><td>18</td><td>17373.08</td><td>0</td><td>0.0</td><td>0</td><td>0.0</td><td>0</td><td>&hellip;</td><td>-11213.43</td><td>-536.03</td><td>-549.93</td><td>-7.61</td><td>0.0</td><td>0.0</td><td>0.0</td><td>5</td><td>-42765.48</td><td>-152.63</td><td>-18.99</td><td>61</td><td>-549.93</td><td>-3</td><td>0</td><td>-3718.41</td><td>0</td><td>0</td><td>0.0</td><td>61</td><td>-5141.81</td><td>-6031.35</td><td>0.0</td><td>379.47</td><td>-0.26</td><td>0.0</td><td>0.0</td><td>0.0</td><td>5</td><td>-50733.44</td><td>50733.44</td><td>0.0</td><td>61</td><td>379.47</td><td>-2</td><td>0</td><td>-7413.36</td></tr><tr><td>249221323</td><td>202105</td><td>1</td><td>0</td><td>0</td><td>46</td><td>97</td><td>2489.25</td><td>31505.78</td><td>1008.8</td><td>952.16</td><td>309.95</td><td>8</td><td>1</td><td>1</td><td>0.0</td><td>-263.5</td><td>2</td><td>6204.56</td><td>0.0</td><td>11106.55</td><td>1</td><td>13240.63</td><td>1</td><td>1</td><td>2216.97</td><td>1</td><td>9</td><td>19278.3</td><td>1</td><td>14</td><td>16708.69</td><td>0</td><td>0.0</td><td>0</td><td>0.0</td><td>0</td><td>&hellip;</td><td>-22903.28</td><td>437.47</td><td>-23698.19</td><td>3.51</td><td>0.0</td><td>0.0</td><td>0.0</td><td>4</td><td>0.0</td><td>21419.2</td><td>-7.7</td><td>61</td><td>-23698.19</td><td>-1</td><td>0</td><td>4586.43</td><td>0</td><td>0</td><td>0.0</td><td>61</td><td>19517.8</td><td>22894.37</td><td>0.0</td><td>-1651.02</td><td>-0.05</td><td>0.0</td><td>0.0</td><td>0.0</td><td>4</td><td>0.0</td><td>33671.39</td><td>0.0</td><td>61</td><td>-1651.02</td><td>-1</td><td>0</td><td>2111.4</td></tr><tr><td>249221323</td><td>202106</td><td>1</td><td>0</td><td>0</td><td>46</td><td>98</td><td>2238.31</td><td>32108.79</td><td>1227.27</td><td>60.53</td><td>801.4</td><td>8</td><td>1</td><td>1</td><td>0.0</td><td>-694.4</td><td>2</td><td>16813.45</td><td>0.0</td><td>11228.74</td><td>1</td><td>8803.89</td><td>1</td><td>0</td><td>0.0</td><td>1</td><td>10</td><td>26328.72</td><td>1</td><td>20</td><td>36650.42</td><td>0</td><td>0.0</td><td>0</td><td>0.0</td><td>0</td><td>&hellip;</td><td>17710.96</td><td>511.27</td><td>-1569.3</td><td>4.11</td><td>0.0</td><td>0.0</td><td>0.0</td><td>-2</td><td>0.0</td><td>22472.94</td><td>3.54</td><td>61</td><td>-1569.3</td><td>0</td><td>0</td><td>1395.87</td><td>0</td><td>0</td><td>0.0</td><td>61</td><td>8601.8</td><td>10089.92</td><td>0.0</td><td>8006.95</td><td>-0.04</td><td>0.0</td><td>0.0</td><td>0.0</td><td>-2</td><td>0.0</td><td>-20016.94</td><td>0.0</td><td>61</td><td>8006.95</td><td>1</td><td>0</td><td>2475.03</td></tr><tr><td>249227600</td><td>202101</td><td>1</td><td>0</td><td>0</td><td>42</td><td>278</td><td>496.21</td><td>15321.8</td><td>418.97</td><td>-1138.55</td><td>1204.4</td><td>9</td><td>1</td><td>1</td><td>0.0</td><td>0.0</td><td>2</td><td>84736.17</td><td>0.0</td><td>30617.86</td><td>1</td><td>157762.37</td><td>1</td><td>19</td><td>20489.02</td><td>1</td><td>11</td><td>13110.17</td><td>1</td><td>0</td><td>0.0</td><td>1</td><td>85831.92</td><td>0</td><td>0.0</td><td>0</td><td>&hellip;</td><td>null</td><td>null</td><td>null</td><td>null</td><td>null</td><td>null</td><td>null</td><td>null</td><td>null</td><td>null</td><td>null</td><td>null</td><td>null</td><td>null</td><td>null</td><td>null</td><td>null</td><td>null</td><td>null</td><td>null</td><td>null</td><td>null</td><td>null</td><td>null</td><td>null</td><td>null</td><td>null</td><td>null</td><td>null</td><td>null</td><td>null</td><td>null</td><td>null</td><td>null</td><td>null</td><td>null</td><td>null</td></tr><tr><td>249227600</td><td>202102</td><td>1</td><td>0</td><td>0</td><td>42</td><td>279</td><td>723.9</td><td>14653.52</td><td>274.82</td><td>-819.21</td><td>1202.06</td><td>9</td><td>1</td><td>1</td><td>0.0</td><td>0.0</td><td>2</td><td>95070.92</td><td>0.0</td><td>31504.04</td><td>1</td><td>143863.88</td><td>1</td><td>16</td><td>15232.36</td><td>1</td><td>13</td><td>17372.85</td><td>1</td><td>0</td><td>0.0</td><td>1</td><td>84412.35</td><td>0</td><td>0.0</td><td>0</td><td>&hellip;</td><td>null</td><td>null</td><td>null</td><td>null</td><td>null</td><td>null</td><td>null</td><td>null</td><td>null</td><td>null</td><td>null</td><td>null</td><td>null</td><td>null</td><td>null</td><td>null</td><td>null</td><td>null</td><td>null</td><td>null</td><td>null</td><td>null</td><td>null</td><td>null</td><td>null</td><td>null</td><td>null</td><td>null</td><td>null</td><td>null</td><td>null</td><td>null</td><td>null</td><td>null</td><td>null</td><td>null</td><td>null</td></tr><tr><td>249227600</td><td>202103</td><td>1</td><td>0</td><td>0</td><td>42</td><td>280</td><td>788.0</td><td>13801.08</td><td>456.46</td><td>-579.33</td><td>861.98</td><td>9</td><td>1</td><td>1</td><td>0.0</td><td>0.0</td><td>2</td><td>58841.17</td><td>0.0</td><td>32261.61</td><td>1</td><td>111242.8</td><td>1</td><td>34</td><td>32528.87</td><td>1</td><td>10</td><td>13502.49</td><td>1</td><td>0</td><td>0.0</td><td>1</td><td>82950.18</td><td>0</td><td>0.0</td><td>0</td><td>&hellip;</td><td>0.0</td><td>0.0</td><td>null</td><td>null</td><td>0.0</td><td>null</td><td>null</td><td>-3</td><td>0.0</td><td>null</td><td>null</td><td>59</td><td>null</td><td>null</td><td>null</td><td>0.0</td><td>0</td><td>0</td><td>0.0</td><td>59</td><td>338.47</td><td>397.03</td><td>0.0</td><td>-2515.63</td><td>0.0</td><td>0.0</td><td>0.0</td><td>0.0</td><td>-4</td><td>-13267.49</td><td>-7918.82</td><td>0.0</td><td>59</td><td>-2515.63</td><td>-3</td><td>0</td><td>199.41</td></tr><tr><td>249227600</td><td>202104</td><td>1</td><td>0</td><td>0</td><td>42</td><td>281</td><td>1113.27</td><td>14121.64</td><td>746.84</td><td>-339.82</td><td>652.2</td><td>9</td><td>1</td><td>1</td><td>0.0</td><td>0.0</td><td>2</td><td>40930.12</td><td>0.0</td><td>32812.25</td><td>1</td><td>117657.46</td><td>1</td><td>23</td><td>26425.87</td><td>1</td><td>15</td><td>18749.41</td><td>1</td><td>0</td><td>0.0</td><td>1</td><td>81444.15</td><td>0</td><td>0.0</td><td>0</td><td>&hellip;</td><td>0.0</td><td>0.0</td><td>null</td><td>null</td><td>0.0</td><td>null</td><td>null</td><td>5</td><td>0.0</td><td>null</td><td>null</td><td>61</td><td>null</td><td>null</td><td>null</td><td>0.0</td><td>0</td><td>0</td><td>0.0</td><td>61</td><td>1447.89</td><td>1698.37</td><td>0.0</td><td>-2431.83</td><td>5.02</td><td>0.0</td><td>0.0</td><td>0.0</td><td>5</td><td>0.0</td><td>-397.03</td><td>0.0</td><td>61</td><td>-2431.83</td><td>1</td><td>0</td><td>574.77</td></tr></tbody></table></div>"
      ],
      "text/plain": [
       "shape: (10, 763)\n",
       "┌───────────┬──────────┬───────────┬───────────┬───┬───────────┬───────────┬───────────┬───────────┐\n",
       "│ numero_de ┆ foto_mes ┆ active_qu ┆ cliente_v ┆ … ┆ Visa_mcon ┆ Visa_ccon ┆ Visa_cade ┆ Visa_mpag │\n",
       "│ _cliente  ┆ ---      ┆ arter     ┆ ip        ┆   ┆ sumototal ┆ sumos_dif ┆ lantosefe ┆ ominimo_d │\n",
       "│ ---       ┆ i64      ┆ ---       ┆ ---       ┆   ┆ _diff2    ┆ f2        ┆ ctivo_dif ┆ iff2      │\n",
       "│ i64       ┆          ┆ i64       ┆ i64       ┆   ┆ ---       ┆ ---       ┆ f2        ┆ ---       │\n",
       "│           ┆          ┆           ┆           ┆   ┆ f64       ┆ i64       ┆ ---       ┆ f64       │\n",
       "│           ┆          ┆           ┆           ┆   ┆           ┆           ┆ i64       ┆           │\n",
       "╞═══════════╪══════════╪═══════════╪═══════════╪═══╪═══════════╪═══════════╪═══════════╪═══════════╡\n",
       "│ 249221323 ┆ 202101   ┆ 1         ┆ 0         ┆ … ┆ null      ┆ null      ┆ null      ┆ null      │\n",
       "│ 249221323 ┆ 202102   ┆ 1         ┆ 0         ┆ … ┆ null      ┆ null      ┆ null      ┆ null      │\n",
       "│ 249221323 ┆ 202103   ┆ 1         ┆ 0         ┆ … ┆ 3959.62   ┆ 1         ┆ 0         ┆ -9559.95  │\n",
       "│ 249221323 ┆ 202104   ┆ 1         ┆ 0         ┆ … ┆ 379.47    ┆ -2        ┆ 0         ┆ -7413.36  │\n",
       "│ 249221323 ┆ 202105   ┆ 1         ┆ 0         ┆ … ┆ -1651.02  ┆ -1        ┆ 0         ┆ 2111.4    │\n",
       "│ 249221323 ┆ 202106   ┆ 1         ┆ 0         ┆ … ┆ 8006.95   ┆ 1         ┆ 0         ┆ 2475.03   │\n",
       "│ 249227600 ┆ 202101   ┆ 1         ┆ 0         ┆ … ┆ null      ┆ null      ┆ null      ┆ null      │\n",
       "│ 249227600 ┆ 202102   ┆ 1         ┆ 0         ┆ … ┆ null      ┆ null      ┆ null      ┆ null      │\n",
       "│ 249227600 ┆ 202103   ┆ 1         ┆ 0         ┆ … ┆ -2515.63  ┆ -3        ┆ 0         ┆ 199.41    │\n",
       "│ 249227600 ┆ 202104   ┆ 1         ┆ 0         ┆ … ┆ -2431.83  ┆ 1         ┆ 0         ┆ 574.77    │\n",
       "└───────────┴──────────┴───────────┴───────────┴───┴───────────┴───────────┴───────────┴───────────┘"
      ]
     },
     "execution_count": 9,
     "metadata": {},
     "output_type": "execute_result"
    }
   ],
   "source": [
    "# Calcular diferencia respecto a dos meses atrás por cliente\n",
    "diff2_cols = [\n",
    "    (pl.col(col) - pl.col(col).shift(2).over(\"numero_de_cliente\")).alias(f\"{col}_diff2\")\n",
    "    for col in numeric_cols\n",
    "]\n",
    "\n",
    "# Agregar estas columnas al df_final\n",
    "df_final = df_final.with_columns(diff2_cols)\n",
    "\n",
    "df_final.head(10)"
   ]
  },
  {
   "cell_type": "code",
   "execution_count": null,
   "id": "76493df4",
   "metadata": {},
   "outputs": [],
   "source": [
    "# 7. Guardar el dataframe resultante en un nuevo CSV\n",
    "df_final.write_csv(\"df_confe.csv\")"
   ]
  },
  {
   "cell_type": "code",
   "execution_count": null,
   "id": "5bafdf5a",
   "metadata": {},
   "outputs": [],
   "source": [
    "import duckdb\n"
   ]
  },
  {
   "cell_type": "code",
   "execution_count": null,
   "id": "2b8a9366",
   "metadata": {},
   "outputs": [
    {
     "data": {
      "text/html": [
       "<div><style>\n",
       ".dataframe > thead > tr,\n",
       ".dataframe > tbody > tr {\n",
       "  text-align: right;\n",
       "  white-space: pre-wrap;\n",
       "}\n",
       "</style>\n",
       "<small>shape: (5, 763)</small><table border=\"1\" class=\"dataframe\"><thead><tr><th>numero_de_cliente</th><th>foto_mes</th><th>active_quarter</th><th>cliente_vip</th><th>internet</th><th>cliente_edad</th><th>cliente_antiguedad</th><th>mrentabilidad</th><th>mrentabilidad_annual</th><th>mcomisiones</th><th>mactivos_margen</th><th>mpasivos_margen</th><th>cproductos</th><th>tcuentas</th><th>ccuenta_corriente</th><th>mcuenta_corriente_adicional</th><th>mcuenta_corriente</th><th>ccaja_ahorro</th><th>mcaja_ahorro</th><th>mcaja_ahorro_adicional</th><th>mcaja_ahorro_dolares</th><th>cdescubierto_preacordado</th><th>mcuentas_saldo</th><th>ctarjeta_debito</th><th>ctarjeta_debito_transacciones</th><th>mautoservicio</th><th>ctarjeta_visa</th><th>ctarjeta_visa_transacciones</th><th>mtarjeta_visa_consumo</th><th>ctarjeta_master</th><th>ctarjeta_master_transacciones</th><th>mtarjeta_master_consumo</th><th>cprestamos_personales</th><th>mprestamos_personales</th><th>cprestamos_prendarios</th><th>mprestamos_prendarios</th><th>cprestamos_hipotecarios</th><th>&hellip;</th><th>Master_msaldopesos_diff2</th><th>Master_msaldodolares_diff2</th><th>Master_mconsumospesos_diff2</th><th>Master_mconsumosdolares_diff2</th><th>Master_mlimitecompra_diff2</th><th>Master_madelantopesos_diff2</th><th>Master_madelantodolares_diff2</th><th>Master_fultimo_cierre_diff2</th><th>Master_mpagado_diff2</th><th>Master_mpagospesos_diff2</th><th>Master_mpagosdolares_diff2</th><th>Master_fechaalta_diff2</th><th>Master_mconsumototal_diff2</th><th>Master_cconsumos_diff2</th><th>Master_cadelantosefectivo_diff2</th><th>Master_mpagominimo_diff2</th><th>Visa_delinquency_diff2</th><th>Visa_status_diff2</th><th>Visa_mfinanciacion_limite_diff2</th><th>Visa_Fvencimiento_diff2</th><th>Visa_msaldototal_diff2</th><th>Visa_msaldopesos_diff2</th><th>Visa_msaldodolares_diff2</th><th>Visa_mconsumospesos_diff2</th><th>Visa_mconsumosdolares_diff2</th><th>Visa_mlimitecompra_diff2</th><th>Visa_madelantopesos_diff2</th><th>Visa_madelantodolares_diff2</th><th>Visa_fultimo_cierre_diff2</th><th>Visa_mpagado_diff2</th><th>Visa_mpagospesos_diff2</th><th>Visa_mpagosdolares_diff2</th><th>Visa_fechaalta_diff2</th><th>Visa_mconsumototal_diff2</th><th>Visa_cconsumos_diff2</th><th>Visa_cadelantosefectivo_diff2</th><th>Visa_mpagominimo_diff2</th></tr><tr><td>i64</td><td>i64</td><td>i64</td><td>i64</td><td>i64</td><td>i64</td><td>i64</td><td>f64</td><td>f64</td><td>f64</td><td>f64</td><td>f64</td><td>i64</td><td>i64</td><td>i64</td><td>f64</td><td>f64</td><td>i64</td><td>f64</td><td>f64</td><td>f64</td><td>i64</td><td>f64</td><td>i64</td><td>i64</td><td>f64</td><td>i64</td><td>i64</td><td>f64</td><td>i64</td><td>i64</td><td>f64</td><td>i64</td><td>f64</td><td>i64</td><td>f64</td><td>i64</td><td>&hellip;</td><td>f64</td><td>f64</td><td>f64</td><td>f64</td><td>f64</td><td>f64</td><td>f64</td><td>i64</td><td>f64</td><td>f64</td><td>f64</td><td>i64</td><td>f64</td><td>i64</td><td>i64</td><td>f64</td><td>i64</td><td>i64</td><td>f64</td><td>i64</td><td>f64</td><td>f64</td><td>f64</td><td>f64</td><td>f64</td><td>f64</td><td>f64</td><td>f64</td><td>i64</td><td>f64</td><td>f64</td><td>f64</td><td>i64</td><td>f64</td><td>i64</td><td>i64</td><td>f64</td></tr></thead><tbody><tr><td>249221323</td><td>202101</td><td>1</td><td>0</td><td>0</td><td>46</td><td>93</td><td>3070.24</td><td>15691.1</td><td>1278.11</td><td>890.96</td><td>636.86</td><td>8</td><td>1</td><td>1</td><td>0.0</td><td>-314.48</td><td>2</td><td>25761.53</td><td>0.0</td><td>10240.09</td><td>1</td><td>22890.77</td><td>1</td><td>5</td><td>35013.67</td><td>1</td><td>10</td><td>15929.92</td><td>1</td><td>13</td><td>27145.02</td><td>0</td><td>0.0</td><td>0</td><td>0.0</td><td>0</td><td>&hellip;</td><td>null</td><td>null</td><td>null</td><td>null</td><td>null</td><td>null</td><td>null</td><td>null</td><td>null</td><td>null</td><td>null</td><td>null</td><td>null</td><td>null</td><td>null</td><td>null</td><td>null</td><td>null</td><td>null</td><td>null</td><td>null</td><td>null</td><td>null</td><td>null</td><td>null</td><td>null</td><td>null</td><td>null</td><td>null</td><td>null</td><td>null</td><td>null</td><td>null</td><td>null</td><td>null</td><td>null</td><td>null</td></tr><tr><td>249221323</td><td>202102</td><td>1</td><td>0</td><td>0</td><td>46</td><td>94</td><td>3385.85</td><td>19103.66</td><td>1230.47</td><td>1631.3</td><td>206.19</td><td>8</td><td>1</td><td>1</td><td>0.0</td><td>0.0</td><td>2</td><td>8116.43</td><td>0.0</td><td>10536.47</td><td>1</td><td>10629.59</td><td>1</td><td>1</td><td>2315.5</td><td>1</td><td>11</td><td>17285.39</td><td>1</td><td>22</td><td>25713.45</td><td>0</td><td>0.0</td><td>0</td><td>0.0</td><td>0</td><td>&hellip;</td><td>null</td><td>null</td><td>null</td><td>null</td><td>null</td><td>null</td><td>null</td><td>null</td><td>null</td><td>null</td><td>null</td><td>null</td><td>null</td><td>null</td><td>null</td><td>null</td><td>null</td><td>null</td><td>null</td><td>null</td><td>null</td><td>null</td><td>null</td><td>null</td><td>null</td><td>null</td><td>null</td><td>null</td><td>null</td><td>null</td><td>null</td><td>null</td><td>null</td><td>null</td><td>null</td><td>null</td><td>null</td></tr><tr><td>249221323</td><td>202103</td><td>1</td><td>0</td><td>0</td><td>46</td><td>95</td><td>5341.18</td><td>24020.21</td><td>755.85</td><td>2768.95</td><td>1140.11</td><td>8</td><td>1</td><td>1</td><td>0.0</td><td>-3933.18</td><td>2</td><td>4015.77</td><td>0.0</td><td>10789.84</td><td>1</td><td>4650.31</td><td>1</td><td>0</td><td>0.0</td><td>1</td><td>10</td><td>18976.09</td><td>1</td><td>16</td><td>45821.57</td><td>0</td><td>0.0</td><td>0</td><td>0.0</td><td>0</td><td>&hellip;</td><td>1737.9</td><td>-1463.09</td><td>20138.76</td><td>-18.77</td><td>0.0</td><td>0.0</td><td>0.0</td><td>-3</td><td>0.0</td><td>-32149.17</td><td>57.48</td><td>59</td><td>20138.76</td><td>4</td><td>0</td><td>-9290.16</td><td>0</td><td>0</td><td>0.0</td><td>59</td><td>-45704.08</td><td>-53610.87</td><td>0.0</td><td>3959.62</td><td>0.17</td><td>0.0</td><td>0.0</td><td>0.0</td><td>-3</td><td>0.0</td><td>-29899.97</td><td>0.0</td><td>59</td><td>3959.62</td><td>1</td><td>0</td><td>-9559.95</td></tr><tr><td>249221323</td><td>202104</td><td>1</td><td>0</td><td>0</td><td>46</td><td>96</td><td>5356.62</td><td>29189.81</td><td>1470.2</td><td>2627.7</td><td>685.53</td><td>8</td><td>1</td><td>1</td><td>0.0</td><td>-1960.57</td><td>2</td><td>2136.11</td><td>0.0</td><td>10974.0</td><td>1</td><td>9358.46</td><td>1</td><td>0</td><td>0.0</td><td>1</td><td>10</td><td>19201.77</td><td>1</td><td>18</td><td>17373.08</td><td>0</td><td>0.0</td><td>0</td><td>0.0</td><td>0</td><td>&hellip;</td><td>-11213.43</td><td>-536.03</td><td>-549.93</td><td>-7.61</td><td>0.0</td><td>0.0</td><td>0.0</td><td>5</td><td>-42765.48</td><td>-152.63</td><td>-18.99</td><td>61</td><td>-549.93</td><td>-3</td><td>0</td><td>-3718.41</td><td>0</td><td>0</td><td>0.0</td><td>61</td><td>-5141.81</td><td>-6031.35</td><td>0.0</td><td>379.47</td><td>-0.26</td><td>0.0</td><td>0.0</td><td>0.0</td><td>5</td><td>-50733.44</td><td>50733.44</td><td>0.0</td><td>61</td><td>379.47</td><td>-2</td><td>0</td><td>-7413.36</td></tr><tr><td>249221323</td><td>202105</td><td>1</td><td>0</td><td>0</td><td>46</td><td>97</td><td>2489.25</td><td>31505.78</td><td>1008.8</td><td>952.16</td><td>309.95</td><td>8</td><td>1</td><td>1</td><td>0.0</td><td>-263.5</td><td>2</td><td>6204.56</td><td>0.0</td><td>11106.55</td><td>1</td><td>13240.63</td><td>1</td><td>1</td><td>2216.97</td><td>1</td><td>9</td><td>19278.3</td><td>1</td><td>14</td><td>16708.69</td><td>0</td><td>0.0</td><td>0</td><td>0.0</td><td>0</td><td>&hellip;</td><td>-22903.28</td><td>437.47</td><td>-23698.19</td><td>3.51</td><td>0.0</td><td>0.0</td><td>0.0</td><td>4</td><td>0.0</td><td>21419.2</td><td>-7.7</td><td>61</td><td>-23698.19</td><td>-1</td><td>0</td><td>4586.43</td><td>0</td><td>0</td><td>0.0</td><td>61</td><td>19517.8</td><td>22894.37</td><td>0.0</td><td>-1651.02</td><td>-0.05</td><td>0.0</td><td>0.0</td><td>0.0</td><td>4</td><td>0.0</td><td>33671.39</td><td>0.0</td><td>61</td><td>-1651.02</td><td>-1</td><td>0</td><td>2111.4</td></tr></tbody></table></div>"
      ],
      "text/plain": [
       "shape: (5, 763)\n",
       "┌───────────┬──────────┬───────────┬───────────┬───┬───────────┬───────────┬───────────┬───────────┐\n",
       "│ numero_de ┆ foto_mes ┆ active_qu ┆ cliente_v ┆ … ┆ Visa_mcon ┆ Visa_ccon ┆ Visa_cade ┆ Visa_mpag │\n",
       "│ _cliente  ┆ ---      ┆ arter     ┆ ip        ┆   ┆ sumototal ┆ sumos_dif ┆ lantosefe ┆ ominimo_d │\n",
       "│ ---       ┆ i64      ┆ ---       ┆ ---       ┆   ┆ _diff2    ┆ f2        ┆ ctivo_dif ┆ iff2      │\n",
       "│ i64       ┆          ┆ i64       ┆ i64       ┆   ┆ ---       ┆ ---       ┆ f2        ┆ ---       │\n",
       "│           ┆          ┆           ┆           ┆   ┆ f64       ┆ i64       ┆ ---       ┆ f64       │\n",
       "│           ┆          ┆           ┆           ┆   ┆           ┆           ┆ i64       ┆           │\n",
       "╞═══════════╪══════════╪═══════════╪═══════════╪═══╪═══════════╪═══════════╪═══════════╪═══════════╡\n",
       "│ 249221323 ┆ 202101   ┆ 1         ┆ 0         ┆ … ┆ null      ┆ null      ┆ null      ┆ null      │\n",
       "│ 249221323 ┆ 202102   ┆ 1         ┆ 0         ┆ … ┆ null      ┆ null      ┆ null      ┆ null      │\n",
       "│ 249221323 ┆ 202103   ┆ 1         ┆ 0         ┆ … ┆ 3959.62   ┆ 1         ┆ 0         ┆ -9559.95  │\n",
       "│ 249221323 ┆ 202104   ┆ 1         ┆ 0         ┆ … ┆ 379.47    ┆ -2        ┆ 0         ┆ -7413.36  │\n",
       "│ 249221323 ┆ 202105   ┆ 1         ┆ 0         ┆ … ┆ -1651.02  ┆ -1        ┆ 0         ┆ 2111.4    │\n",
       "└───────────┴──────────┴───────────┴───────────┴───┴───────────┴───────────┴───────────┴───────────┘"
      ]
     },
     "execution_count": 12,
     "metadata": {},
     "output_type": "execute_result"
    }
   ],
   "source": [
    "df_final.head(\n",
    "    \n",
    ")"
   ]
  },
  {
   "cell_type": "code",
   "execution_count": null,
   "id": "4ba0f15f",
   "metadata": {},
   "outputs": [
    {
     "data": {
      "application/vnd.jupyter.widget-view+json": {
       "model_id": "c2a85d0ee1334351b7f7a9c67fa57885",
       "version_major": 2,
       "version_minor": 0
      },
      "text/plain": [
       "FloatProgress(value=0.0, layout=Layout(width='auto'), style=ProgressStyle(bar_color='black'))"
      ]
     },
     "metadata": {},
     "output_type": "display_data"
    },
    {
     "data": {
      "application/vnd.jupyter.widget-view+json": {
       "model_id": "faa187c75c0b4032aa4e1ed13ed2a2c6",
       "version_major": 2,
       "version_minor": 0
      },
      "text/plain": [
       "FloatProgress(value=0.0, layout=Layout(width='auto'), style=ProgressStyle(bar_color='black'))"
      ]
     },
     "metadata": {},
     "output_type": "display_data"
    },
    {
     "data": {
      "application/vnd.jupyter.widget-view+json": {
       "model_id": "7237b63482d3407bb1b48be8fe73e822",
       "version_major": 2,
       "version_minor": 0
      },
      "text/plain": [
       "FloatProgress(value=0.0, layout=Layout(width='auto'), style=ProgressStyle(bar_color='black'))"
      ]
     },
     "metadata": {},
     "output_type": "display_data"
    },
    {
     "data": {
      "application/vnd.jupyter.widget-view+json": {
       "model_id": "b1c2fef6456c4090ace6190d8917372c",
       "version_major": 2,
       "version_minor": 0
      },
      "text/plain": [
       "FloatProgress(value=0.0, layout=Layout(width='auto'), style=ProgressStyle(bar_color='black'))"
      ]
     },
     "metadata": {},
     "output_type": "display_data"
    },
    {
     "data": {
      "application/vnd.jupyter.widget-view+json": {
       "model_id": "b1e3079b060d4ff5a5110851db7c99df",
       "version_major": 2,
       "version_minor": 0
      },
      "text/plain": [
       "FloatProgress(value=0.0, layout=Layout(width='auto'), style=ProgressStyle(bar_color='black'))"
      ]
     },
     "metadata": {},
     "output_type": "display_data"
    },
    {
     "data": {
      "application/vnd.jupyter.widget-view+json": {
       "model_id": "74c31f02755340acb0c14b534bdd06c6",
       "version_major": 2,
       "version_minor": 0
      },
      "text/plain": [
       "FloatProgress(value=0.0, layout=Layout(width='auto'), style=ProgressStyle(bar_color='black'))"
      ]
     },
     "metadata": {},
     "output_type": "display_data"
    },
    {
     "data": {
      "application/vnd.jupyter.widget-view+json": {
       "model_id": "76680d0b34f343a4b1e1b6a651b6bc7d",
       "version_major": 2,
       "version_minor": 0
      },
      "text/plain": [
       "FloatProgress(value=0.0, layout=Layout(width='auto'), style=ProgressStyle(bar_color='black'))"
      ]
     },
     "metadata": {},
     "output_type": "display_data"
    },
    {
     "name": "stdout",
     "output_type": "stream",
     "text": [
      "   numero_de_cliente  foto_mes  active_quarter  cliente_vip  internet  \\\n",
      "0          251185906    202103               1            0         0   \n",
      "1          251185906    202104               1            0         0   \n",
      "2          251185906    202105               1            0         0   \n",
      "3          251185906    202106               1            0         0   \n",
      "4          251187443    202101               1            0         0   \n",
      "\n",
      "   cliente_edad  cliente_antiguedad  mrentabilidad  mrentabilidad_annual  \\\n",
      "0            61                 322         108.03              15881.37   \n",
      "1            61                 323        1043.77              15709.36   \n",
      "2            61                 324         735.13              14785.26   \n",
      "3            61                 325         317.26              13518.44   \n",
      "4            43                 178       23419.27              72893.79   \n",
      "\n",
      "   mcomisiones  ...  slope_Visa_madelantopesos  slope_Visa_madelantodolares  \\\n",
      "0      4239.09  ...                        0.0                          0.0   \n",
      "1      3132.23  ...                        0.0                          0.0   \n",
      "2      3627.71  ...                        0.0                          0.0   \n",
      "3      3157.10  ...                        0.0                          0.0   \n",
      "4     23602.23  ...                        0.0                          0.0   \n",
      "\n",
      "   slope_Visa_fultimo_cierre  slope_Visa_mpagado  slope_Visa_mpagospesos  \\\n",
      "0                   0.142857                 0.0             1487.303429   \n",
      "1                   0.142857                 0.0             1487.303429   \n",
      "2                   0.142857                 0.0             1487.303429   \n",
      "3                   0.142857                 0.0             1487.303429   \n",
      "4                   0.142857                 0.0            -1303.395143   \n",
      "\n",
      "   slope_Visa_mpagosdolares  slope_Visa_fechaalta  slope_Visa_mconsumototal  \\\n",
      "0                       0.0             30.171429               1874.117714   \n",
      "1                       0.0             30.171429               1874.117714   \n",
      "2                       0.0             30.171429               1874.117714   \n",
      "3                       0.0             30.171429               1874.117714   \n",
      "4                       0.0             30.171429                781.002286   \n",
      "\n",
      "   slope_Visa_cconsumos  slope_Visa_cadelantosefectivo  \n",
      "0             -0.257143                            0.0  \n",
      "1             -0.257143                            0.0  \n",
      "2             -0.257143                            0.0  \n",
      "3             -0.257143                            0.0  \n",
      "4              0.000000                            0.0  \n",
      "\n",
      "[5 rows x 910 columns]\n"
     ]
    }
   ],
   "source": [
    "import duckdb\n",
    "import pandas as pd\n",
    "\n",
    "# 1️⃣ Conectar a DuckDB en disco\n",
    "conn = duckdb.connect(database=\"mi_proyecto.duckdb\")\n",
    "\n",
    "# 2️⃣ Ajustar parámetros de memoria\n",
    "conn.execute(\"SET memory_limit='4GB'\")\n",
    "conn.execute(\"SET threads=2\")\n",
    "conn.execute(\"SET preserve_insertion_order=false\")\n",
    "\n",
    "# 3️⃣ Registrar CSV como tabla si no lo hiciste antes\n",
    "conn.execute(\"\"\"\n",
    "    CREATE OR REPLACE TABLE tabla_confe AS\n",
    "    SELECT * FROM read_csv_auto('data/df_confe.csv', header=True)\n",
    "\"\"\")\n",
    "\n",
    "# 4️⃣ Obtener esquema y filtrar columnas numéricas\n",
    "schema_df = conn.execute(\"DESCRIBE tabla_confe\").fetchdf()\n",
    "\n",
    "cols_numericas = schema_df.loc[\n",
    "    (~schema_df['column_type'].isin(['INTEGER', 'VARCHAR'])) &\n",
    "    (~schema_df['column_name'].str.endswith('_lag1')) &\n",
    "    (~schema_df['column_name'].str.endswith('_avg_3')) &\n",
    "    (~schema_df['column_name'].str.contains('diff')) &\n",
    "    (~schema_df['column_name'].str.contains('min')) &\n",
    "    (~schema_df['column_name'].str.contains('max')) &\n",
    "    (~schema_df['column_name'].str.startswith('Visa_f')) &\n",
    "    (~schema_df['column_name'].str.startswith('Master_f')),\n",
    "    'column_name'\n",
    "].tolist()\n",
    "\n",
    "# Excluir columnas adicionales fijas\n",
    "excluir = ['numero_de_cliente', 'foto_mes', 'internet', 'cliente_edad', 'cliente_antiguedad']\n",
    "cols_numericas = [c for c in cols_numericas if c not in excluir]\n",
    "\n",
    "# 5️⃣ Procesar columnas en bloques\n",
    "block_size = 50  # ajusta según tu RAM\n",
    "for i in range(0, len(cols_numericas), block_size):\n",
    "    block_cols = cols_numericas[i:i+block_size]\n",
    "\n",
    "    # Crear expresiones REGR_SLOPE para este bloque\n",
    "    regr_expr = [\n",
    "        f\"\"\"CAST(\n",
    "            CASE\n",
    "                WHEN NOT isfinite(REGR_SLOPE({col}, cliente_antiguedad)) THEN 0\n",
    "                ELSE REGR_SLOPE({col}, cliente_antiguedad)\n",
    "            END AS DOUBLE\n",
    "        ) AS slope_{col}\"\"\"\n",
    "        for col in block_cols\n",
    "    ]\n",
    "\n",
    "    # Crear tabla temporal de slopes de este bloque\n",
    "    query_slopes = f\"\"\"\n",
    "    CREATE OR REPLACE TABLE df_slopes_block AS\n",
    "    SELECT numero_de_cliente,\n",
    "           {', '.join(regr_expr)}\n",
    "    FROM tabla_confe\n",
    "    GROUP BY numero_de_cliente\n",
    "    \"\"\"\n",
    "    conn.execute(query_slopes)\n",
    "\n",
    "    # Si es el primer bloque, creamos la tabla final\n",
    "    if i == 0:\n",
    "        conn.execute(\"CREATE OR REPLACE TABLE tabla_confe_slopes AS SELECT * FROM tabla_confe\")\n",
    "    \n",
    "    # Hacemos LEFT JOIN incremental\n",
    "    conn.execute(f\"\"\"\n",
    "    CREATE OR REPLACE TABLE tabla_confe_slopes AS\n",
    "    SELECT t.*, s.*\n",
    "    FROM tabla_confe_slopes t\n",
    "    LEFT JOIN df_slopes_block s USING (numero_de_cliente)\n",
    "    \"\"\")\n",
    "\n",
    "# 6️⃣ Traer una muestra a Pandas\n",
    "df_final_slopes = conn.execute(\"SELECT * FROM tabla_confe_slopes LIMIT 1000\").fetchdf()\n",
    "print(df_final_slopes.head())\n"
   ]
  },
  {
   "cell_type": "code",
   "execution_count": 8,
   "id": "e3a7a66f",
   "metadata": {},
   "outputs": [
    {
     "data": {
      "application/vnd.jupyter.widget-view+json": {
       "model_id": "61aec49a1c394a6bb7744e0615a01ea0",
       "version_major": 2,
       "version_minor": 0
      },
      "text/plain": [
       "FloatProgress(value=0.0, layout=Layout(width='auto'), style=ProgressStyle(bar_color='black'))"
      ]
     },
     "metadata": {},
     "output_type": "display_data"
    },
    {
     "data": {
      "text/plain": [
       "<duckdb.duckdb.DuckDBPyConnection at 0x19e9a0db930>"
      ]
     },
     "execution_count": 8,
     "metadata": {},
     "output_type": "execute_result"
    }
   ],
   "source": [
    "# Exportar todo a un nuevo CSV\n",
    "conn.execute(\"\"\"\n",
    "COPY tabla_confe_slopes \n",
    "TO 'data/df_confe_slopes.csv' \n",
    "WITH (HEADER, DELIMITER ',')\n",
    "\"\"\")\n"
   ]
  },
  {
   "cell_type": "code",
   "execution_count": 9,
   "id": "d9b5d911",
   "metadata": {},
   "outputs": [
    {
     "data": {
      "text/html": [
       "<div>\n",
       "<style scoped>\n",
       "    .dataframe tbody tr th:only-of-type {\n",
       "        vertical-align: middle;\n",
       "    }\n",
       "\n",
       "    .dataframe tbody tr th {\n",
       "        vertical-align: top;\n",
       "    }\n",
       "\n",
       "    .dataframe thead th {\n",
       "        text-align: right;\n",
       "    }\n",
       "</style>\n",
       "<table border=\"1\" class=\"dataframe\">\n",
       "  <thead>\n",
       "    <tr style=\"text-align: right;\">\n",
       "      <th></th>\n",
       "      <th>numero_de_cliente</th>\n",
       "      <th>foto_mes</th>\n",
       "      <th>active_quarter</th>\n",
       "      <th>cliente_vip</th>\n",
       "      <th>internet</th>\n",
       "      <th>cliente_edad</th>\n",
       "      <th>cliente_antiguedad</th>\n",
       "      <th>mrentabilidad</th>\n",
       "      <th>mrentabilidad_annual</th>\n",
       "      <th>mcomisiones</th>\n",
       "      <th>...</th>\n",
       "      <th>slope_Visa_madelantopesos</th>\n",
       "      <th>slope_Visa_madelantodolares</th>\n",
       "      <th>slope_Visa_fultimo_cierre</th>\n",
       "      <th>slope_Visa_mpagado</th>\n",
       "      <th>slope_Visa_mpagospesos</th>\n",
       "      <th>slope_Visa_mpagosdolares</th>\n",
       "      <th>slope_Visa_fechaalta</th>\n",
       "      <th>slope_Visa_mconsumototal</th>\n",
       "      <th>slope_Visa_cconsumos</th>\n",
       "      <th>slope_Visa_cadelantosefectivo</th>\n",
       "    </tr>\n",
       "  </thead>\n",
       "  <tbody>\n",
       "    <tr>\n",
       "      <th>0</th>\n",
       "      <td>251185906</td>\n",
       "      <td>202103</td>\n",
       "      <td>1</td>\n",
       "      <td>0</td>\n",
       "      <td>0</td>\n",
       "      <td>61</td>\n",
       "      <td>322</td>\n",
       "      <td>108.03</td>\n",
       "      <td>15881.37</td>\n",
       "      <td>4239.09</td>\n",
       "      <td>...</td>\n",
       "      <td>0.0</td>\n",
       "      <td>0.0</td>\n",
       "      <td>0.142857</td>\n",
       "      <td>0.0</td>\n",
       "      <td>1487.303429</td>\n",
       "      <td>0.0</td>\n",
       "      <td>30.171429</td>\n",
       "      <td>1874.117714</td>\n",
       "      <td>-0.257143</td>\n",
       "      <td>0.0</td>\n",
       "    </tr>\n",
       "    <tr>\n",
       "      <th>1</th>\n",
       "      <td>251185906</td>\n",
       "      <td>202104</td>\n",
       "      <td>1</td>\n",
       "      <td>0</td>\n",
       "      <td>0</td>\n",
       "      <td>61</td>\n",
       "      <td>323</td>\n",
       "      <td>1043.77</td>\n",
       "      <td>15709.36</td>\n",
       "      <td>3132.23</td>\n",
       "      <td>...</td>\n",
       "      <td>0.0</td>\n",
       "      <td>0.0</td>\n",
       "      <td>0.142857</td>\n",
       "      <td>0.0</td>\n",
       "      <td>1487.303429</td>\n",
       "      <td>0.0</td>\n",
       "      <td>30.171429</td>\n",
       "      <td>1874.117714</td>\n",
       "      <td>-0.257143</td>\n",
       "      <td>0.0</td>\n",
       "    </tr>\n",
       "    <tr>\n",
       "      <th>2</th>\n",
       "      <td>251185906</td>\n",
       "      <td>202105</td>\n",
       "      <td>1</td>\n",
       "      <td>0</td>\n",
       "      <td>0</td>\n",
       "      <td>61</td>\n",
       "      <td>324</td>\n",
       "      <td>735.13</td>\n",
       "      <td>14785.26</td>\n",
       "      <td>3627.71</td>\n",
       "      <td>...</td>\n",
       "      <td>0.0</td>\n",
       "      <td>0.0</td>\n",
       "      <td>0.142857</td>\n",
       "      <td>0.0</td>\n",
       "      <td>1487.303429</td>\n",
       "      <td>0.0</td>\n",
       "      <td>30.171429</td>\n",
       "      <td>1874.117714</td>\n",
       "      <td>-0.257143</td>\n",
       "      <td>0.0</td>\n",
       "    </tr>\n",
       "    <tr>\n",
       "      <th>3</th>\n",
       "      <td>251185906</td>\n",
       "      <td>202106</td>\n",
       "      <td>1</td>\n",
       "      <td>0</td>\n",
       "      <td>0</td>\n",
       "      <td>61</td>\n",
       "      <td>325</td>\n",
       "      <td>317.26</td>\n",
       "      <td>13518.44</td>\n",
       "      <td>3157.10</td>\n",
       "      <td>...</td>\n",
       "      <td>0.0</td>\n",
       "      <td>0.0</td>\n",
       "      <td>0.142857</td>\n",
       "      <td>0.0</td>\n",
       "      <td>1487.303429</td>\n",
       "      <td>0.0</td>\n",
       "      <td>30.171429</td>\n",
       "      <td>1874.117714</td>\n",
       "      <td>-0.257143</td>\n",
       "      <td>0.0</td>\n",
       "    </tr>\n",
       "    <tr>\n",
       "      <th>4</th>\n",
       "      <td>251187443</td>\n",
       "      <td>202101</td>\n",
       "      <td>1</td>\n",
       "      <td>0</td>\n",
       "      <td>0</td>\n",
       "      <td>43</td>\n",
       "      <td>178</td>\n",
       "      <td>23419.27</td>\n",
       "      <td>72893.79</td>\n",
       "      <td>23602.23</td>\n",
       "      <td>...</td>\n",
       "      <td>0.0</td>\n",
       "      <td>0.0</td>\n",
       "      <td>0.142857</td>\n",
       "      <td>0.0</td>\n",
       "      <td>-1303.395143</td>\n",
       "      <td>0.0</td>\n",
       "      <td>30.171429</td>\n",
       "      <td>781.002286</td>\n",
       "      <td>0.000000</td>\n",
       "      <td>0.0</td>\n",
       "    </tr>\n",
       "    <tr>\n",
       "      <th>5</th>\n",
       "      <td>251187443</td>\n",
       "      <td>202102</td>\n",
       "      <td>1</td>\n",
       "      <td>0</td>\n",
       "      <td>0</td>\n",
       "      <td>43</td>\n",
       "      <td>179</td>\n",
       "      <td>2228.23</td>\n",
       "      <td>73060.17</td>\n",
       "      <td>1886.01</td>\n",
       "      <td>...</td>\n",
       "      <td>0.0</td>\n",
       "      <td>0.0</td>\n",
       "      <td>0.142857</td>\n",
       "      <td>0.0</td>\n",
       "      <td>-1303.395143</td>\n",
       "      <td>0.0</td>\n",
       "      <td>30.171429</td>\n",
       "      <td>781.002286</td>\n",
       "      <td>0.000000</td>\n",
       "      <td>0.0</td>\n",
       "    </tr>\n",
       "    <tr>\n",
       "      <th>6</th>\n",
       "      <td>251187443</td>\n",
       "      <td>202103</td>\n",
       "      <td>1</td>\n",
       "      <td>0</td>\n",
       "      <td>0</td>\n",
       "      <td>43</td>\n",
       "      <td>180</td>\n",
       "      <td>13354.05</td>\n",
       "      <td>84080.76</td>\n",
       "      <td>14001.50</td>\n",
       "      <td>...</td>\n",
       "      <td>0.0</td>\n",
       "      <td>0.0</td>\n",
       "      <td>0.142857</td>\n",
       "      <td>0.0</td>\n",
       "      <td>-1303.395143</td>\n",
       "      <td>0.0</td>\n",
       "      <td>30.171429</td>\n",
       "      <td>781.002286</td>\n",
       "      <td>0.000000</td>\n",
       "      <td>0.0</td>\n",
       "    </tr>\n",
       "    <tr>\n",
       "      <th>7</th>\n",
       "      <td>251187443</td>\n",
       "      <td>202104</td>\n",
       "      <td>1</td>\n",
       "      <td>0</td>\n",
       "      <td>0</td>\n",
       "      <td>44</td>\n",
       "      <td>181</td>\n",
       "      <td>1882.20</td>\n",
       "      <td>83822.94</td>\n",
       "      <td>2275.19</td>\n",
       "      <td>...</td>\n",
       "      <td>0.0</td>\n",
       "      <td>0.0</td>\n",
       "      <td>0.142857</td>\n",
       "      <td>0.0</td>\n",
       "      <td>-1303.395143</td>\n",
       "      <td>0.0</td>\n",
       "      <td>30.171429</td>\n",
       "      <td>781.002286</td>\n",
       "      <td>0.000000</td>\n",
       "      <td>0.0</td>\n",
       "    </tr>\n",
       "    <tr>\n",
       "      <th>8</th>\n",
       "      <td>251187443</td>\n",
       "      <td>202105</td>\n",
       "      <td>1</td>\n",
       "      <td>0</td>\n",
       "      <td>0</td>\n",
       "      <td>44</td>\n",
       "      <td>182</td>\n",
       "      <td>1662.49</td>\n",
       "      <td>83213.07</td>\n",
       "      <td>2200.87</td>\n",
       "      <td>...</td>\n",
       "      <td>0.0</td>\n",
       "      <td>0.0</td>\n",
       "      <td>0.142857</td>\n",
       "      <td>0.0</td>\n",
       "      <td>-1303.395143</td>\n",
       "      <td>0.0</td>\n",
       "      <td>30.171429</td>\n",
       "      <td>781.002286</td>\n",
       "      <td>0.000000</td>\n",
       "      <td>0.0</td>\n",
       "    </tr>\n",
       "    <tr>\n",
       "      <th>9</th>\n",
       "      <td>251187443</td>\n",
       "      <td>202106</td>\n",
       "      <td>1</td>\n",
       "      <td>0</td>\n",
       "      <td>0</td>\n",
       "      <td>44</td>\n",
       "      <td>183</td>\n",
       "      <td>3046.89</td>\n",
       "      <td>82041.09</td>\n",
       "      <td>2221.66</td>\n",
       "      <td>...</td>\n",
       "      <td>0.0</td>\n",
       "      <td>0.0</td>\n",
       "      <td>0.142857</td>\n",
       "      <td>0.0</td>\n",
       "      <td>-1303.395143</td>\n",
       "      <td>0.0</td>\n",
       "      <td>30.171429</td>\n",
       "      <td>781.002286</td>\n",
       "      <td>0.000000</td>\n",
       "      <td>0.0</td>\n",
       "    </tr>\n",
       "  </tbody>\n",
       "</table>\n",
       "<p>10 rows × 910 columns</p>\n",
       "</div>"
      ],
      "text/plain": [
       "   numero_de_cliente  foto_mes  active_quarter  cliente_vip  internet  \\\n",
       "0          251185906    202103               1            0         0   \n",
       "1          251185906    202104               1            0         0   \n",
       "2          251185906    202105               1            0         0   \n",
       "3          251185906    202106               1            0         0   \n",
       "4          251187443    202101               1            0         0   \n",
       "5          251187443    202102               1            0         0   \n",
       "6          251187443    202103               1            0         0   \n",
       "7          251187443    202104               1            0         0   \n",
       "8          251187443    202105               1            0         0   \n",
       "9          251187443    202106               1            0         0   \n",
       "\n",
       "   cliente_edad  cliente_antiguedad  mrentabilidad  mrentabilidad_annual  \\\n",
       "0            61                 322         108.03              15881.37   \n",
       "1            61                 323        1043.77              15709.36   \n",
       "2            61                 324         735.13              14785.26   \n",
       "3            61                 325         317.26              13518.44   \n",
       "4            43                 178       23419.27              72893.79   \n",
       "5            43                 179        2228.23              73060.17   \n",
       "6            43                 180       13354.05              84080.76   \n",
       "7            44                 181        1882.20              83822.94   \n",
       "8            44                 182        1662.49              83213.07   \n",
       "9            44                 183        3046.89              82041.09   \n",
       "\n",
       "   mcomisiones  ...  slope_Visa_madelantopesos  slope_Visa_madelantodolares  \\\n",
       "0      4239.09  ...                        0.0                          0.0   \n",
       "1      3132.23  ...                        0.0                          0.0   \n",
       "2      3627.71  ...                        0.0                          0.0   \n",
       "3      3157.10  ...                        0.0                          0.0   \n",
       "4     23602.23  ...                        0.0                          0.0   \n",
       "5      1886.01  ...                        0.0                          0.0   \n",
       "6     14001.50  ...                        0.0                          0.0   \n",
       "7      2275.19  ...                        0.0                          0.0   \n",
       "8      2200.87  ...                        0.0                          0.0   \n",
       "9      2221.66  ...                        0.0                          0.0   \n",
       "\n",
       "   slope_Visa_fultimo_cierre  slope_Visa_mpagado  slope_Visa_mpagospesos  \\\n",
       "0                   0.142857                 0.0             1487.303429   \n",
       "1                   0.142857                 0.0             1487.303429   \n",
       "2                   0.142857                 0.0             1487.303429   \n",
       "3                   0.142857                 0.0             1487.303429   \n",
       "4                   0.142857                 0.0            -1303.395143   \n",
       "5                   0.142857                 0.0            -1303.395143   \n",
       "6                   0.142857                 0.0            -1303.395143   \n",
       "7                   0.142857                 0.0            -1303.395143   \n",
       "8                   0.142857                 0.0            -1303.395143   \n",
       "9                   0.142857                 0.0            -1303.395143   \n",
       "\n",
       "   slope_Visa_mpagosdolares  slope_Visa_fechaalta  slope_Visa_mconsumototal  \\\n",
       "0                       0.0             30.171429               1874.117714   \n",
       "1                       0.0             30.171429               1874.117714   \n",
       "2                       0.0             30.171429               1874.117714   \n",
       "3                       0.0             30.171429               1874.117714   \n",
       "4                       0.0             30.171429                781.002286   \n",
       "5                       0.0             30.171429                781.002286   \n",
       "6                       0.0             30.171429                781.002286   \n",
       "7                       0.0             30.171429                781.002286   \n",
       "8                       0.0             30.171429                781.002286   \n",
       "9                       0.0             30.171429                781.002286   \n",
       "\n",
       "   slope_Visa_cconsumos  slope_Visa_cadelantosefectivo  \n",
       "0             -0.257143                            0.0  \n",
       "1             -0.257143                            0.0  \n",
       "2             -0.257143                            0.0  \n",
       "3             -0.257143                            0.0  \n",
       "4              0.000000                            0.0  \n",
       "5              0.000000                            0.0  \n",
       "6              0.000000                            0.0  \n",
       "7              0.000000                            0.0  \n",
       "8              0.000000                            0.0  \n",
       "9              0.000000                            0.0  \n",
       "\n",
       "[10 rows x 910 columns]"
      ]
     },
     "execution_count": 9,
     "metadata": {},
     "output_type": "execute_result"
    }
   ],
   "source": [
    "df_final_slopes.head(10)\n"
   ]
  }
 ],
 "metadata": {
  "kernelspec": {
   "display_name": "venv",
   "language": "python",
   "name": "python3"
  },
  "language_info": {
   "codemirror_mode": {
    "name": "ipython",
    "version": 3
   },
   "file_extension": ".py",
   "mimetype": "text/x-python",
   "name": "python",
   "nbconvert_exporter": "python",
   "pygments_lexer": "ipython3",
   "version": "3.11.9"
  }
 },
 "nbformat": 4,
 "nbformat_minor": 5
}
