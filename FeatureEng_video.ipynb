{
 "cells": [
  {
   "cell_type": "markdown",
   "id": "27895f0a",
   "metadata": {},
   "source": [
    "#Clase ternaria"
   ]
  },
  {
   "cell_type": "code",
   "execution_count": 2,
   "id": "f432c5b6",
   "metadata": {},
   "outputs": [
    {
     "name": "stdout",
     "output_type": "stream",
     "text": [
      "c:\\Users\\Flor\\Documents\\UBA\\DMEyF\n",
      "['C:\\\\Program Files\\\\WindowsApps\\\\PythonSoftwareFoundation.Python.3.11_3.11.2544.0_x64__qbz5n2kfra8p0\\\\python311.zip', 'C:\\\\Program Files\\\\WindowsApps\\\\PythonSoftwareFoundation.Python.3.11_3.11.2544.0_x64__qbz5n2kfra8p0\\\\DLLs', 'C:\\\\Program Files\\\\WindowsApps\\\\PythonSoftwareFoundation.Python.3.11_3.11.2544.0_x64__qbz5n2kfra8p0\\\\Lib', 'C:\\\\Program Files\\\\WindowsApps\\\\PythonSoftwareFoundation.Python.3.11_3.11.2544.0_x64__qbz5n2kfra8p0', 'c:\\\\Users\\\\Flor\\\\Documents\\\\UBA\\\\DMEyF\\\\venv', '', 'c:\\\\Users\\\\Flor\\\\Documents\\\\UBA\\\\DMEyF\\\\venv\\\\Lib\\\\site-packages', 'c:\\\\Users\\\\Flor\\\\Documents\\\\UBA\\\\DMEyF\\\\venv\\\\Lib\\\\site-packages\\\\win32', 'c:\\\\Users\\\\Flor\\\\Documents\\\\UBA\\\\DMEyF\\\\venv\\\\Lib\\\\site-packages\\\\win32\\\\lib', 'c:\\\\Users\\\\Flor\\\\Documents\\\\UBA\\\\DMEyF\\\\venv\\\\Lib\\\\site-packages\\\\Pythonwin']\n",
      "['.git', '.gitignore', 'Clase_ternaria.py', 'compe_01.ipynb', 'data', 'FeatureEng_video.ipynb', 'logs', 'main.py', 'mi_proyecto.duckdb', 'modelo.ipynb', 'predicciones_kaggle.csv', 'README.md', 'requirements.txt', 'schema.json', 'Segmentacion_video.ipynb', 'venv', '__pycache__']\n"
     ]
    }
   ],
   "source": [
    "import os, sys\n",
    "print(os.getcwd())   # dónde está parado el notebook\n",
    "print(sys.path)      # lista de rutas donde busca módulos\n",
    "print(os.listdir())  # qué archivos hay en el directorio actual\n",
    "import sys, os\n",
    "import polars as pl\n"
   ]
  },
  {
   "cell_type": "code",
   "execution_count": 3,
   "id": "42a92379",
   "metadata": {},
   "outputs": [],
   "source": [
    "# Supongamos que el archivo se llama \"datos.csv\"\n",
    "df = pl.read_csv(\"data/competencia_01_con_clase_ternaria.csv\")\n"
   ]
  },
  {
   "cell_type": "code",
   "execution_count": 4,
   "id": "9b94fbb6",
   "metadata": {},
   "outputs": [
    {
     "name": "stdout",
     "output_type": "stream",
     "text": [
      "shape: (2, 155)\n",
      "┌───────────┬──────────┬───────────┬───────────┬───┬───────────┬───────────┬───────────┬───────────┐\n",
      "│ numero_de ┆ foto_mes ┆ active_qu ┆ cliente_v ┆ … ┆ Visa_ccon ┆ Visa_cade ┆ Visa_mpag ┆ clase_ter │\n",
      "│ _cliente  ┆ ---      ┆ arter     ┆ ip        ┆   ┆ sumos     ┆ lantosefe ┆ ominimo   ┆ naria     │\n",
      "│ ---       ┆ i64      ┆ ---       ┆ ---       ┆   ┆ ---       ┆ ctivo     ┆ ---       ┆ ---       │\n",
      "│ i64       ┆          ┆ i64       ┆ i64       ┆   ┆ i64       ┆ ---       ┆ f64       ┆ str       │\n",
      "│           ┆          ┆           ┆           ┆   ┆           ┆ i64       ┆           ┆           │\n",
      "╞═══════════╪══════════╪═══════════╪═══════════╪═══╪═══════════╪═══════════╪═══════════╪═══════════╡\n",
      "│ 930544172 ┆ 202101   ┆ 1         ┆ 0         ┆ … ┆ 11        ┆ 0         ┆ 1137.81   ┆ BAJA+2    │\n",
      "│ 930544172 ┆ 202102   ┆ 1         ┆ 0         ┆ … ┆ 9         ┆ 0         ┆ 1794.69   ┆ BAJA+1    │\n",
      "└───────────┴──────────┴───────────┴───────────┴───┴───────────┴───────────┴───────────┴───────────┘\n"
     ]
    }
   ],
   "source": [
    "import polars as pl\n",
    "# Mostrar todos los registros del cliente 930544172\n",
    "cliente_id = 930544172\n",
    "\n",
    "df_cliente = df.filter(pl.col(\"numero_de_cliente\") == cliente_id)\n",
    "\n",
    "print(df_cliente)"
   ]
  },
  {
   "cell_type": "markdown",
   "id": "b37d1a4d",
   "metadata": {},
   "source": [
    "#Feature Engeneering"
   ]
  },
  {
   "cell_type": "code",
   "execution_count": 5,
   "id": "8b7dff86",
   "metadata": {},
   "outputs": [
    {
     "data": {
      "text/plain": [
       "polars.dataframe.frame.DataFrame"
      ]
     },
     "execution_count": 5,
     "metadata": {},
     "output_type": "execute_result"
    }
   ],
   "source": [
    "type(df)\n",
    "# debe devolver: <class 'polars.internals.frame.DataFrame'>\n"
   ]
  },
  {
   "cell_type": "code",
   "execution_count": 6,
   "id": "cbed1546",
   "metadata": {},
   "outputs": [
    {
     "data": {
      "text/plain": [
       "(978439, 155)"
      ]
     },
     "execution_count": 6,
     "metadata": {},
     "output_type": "execute_result"
    }
   ],
   "source": [
    "#shape df\n",
    "df.shape"
   ]
  },
  {
   "cell_type": "code",
   "execution_count": 7,
   "id": "8008a0be",
   "metadata": {},
   "outputs": [
    {
     "data": {
      "application/vnd.jupyter.widget-view+json": {
       "model_id": "a34c584863a54b458c64527bda98ec46",
       "version_major": 2,
       "version_minor": 0
      },
      "text/plain": [
       "FloatProgress(value=0.0, layout=Layout(width='auto'), style=ProgressStyle(bar_color='black'))"
      ]
     },
     "metadata": {},
     "output_type": "display_data"
    }
   ],
   "source": [
    "# Supongamos que tu DataFrame se llama df\n",
    "# Detectar automáticamente columnas numéricas\n",
    "numeric_cols = [\n",
    "    col for col, dtype in df.schema.items()\n",
    "    if dtype in [pl.Int8, pl.Int16, pl.Int32, pl.Int64, pl.Float32, pl.Float64]\n",
    "]\n",
    "\n",
    "import duckdb\n",
    "import polars as pl\n",
    "\n",
    "def add_running_min_max_polars(df: pl.DataFrame) -> pl.DataFrame:\n",
    "    \"\"\"\n",
    "    Calcula columnas _min y _max acumuladas por cliente hasta cada fila,\n",
    "    usando DuckDB y devolviendo un Polars DataFrame.\n",
    "    \n",
    "    Mantiene todas las columnas originales y agrega <col>_min y <col>_max\n",
    "    para las columnas numéricas.\n",
    "    \n",
    "    Parámetros:\n",
    "    -----------\n",
    "    df : pl.DataFrame\n",
    "        DataFrame con columnas 'numero_de_cliente', 'foto_mes' y otras columnas numéricas y no numéricas.\n",
    "        \n",
    "    Retorna:\n",
    "    --------\n",
    "    pl.DataFrame con las columnas originales + <col>_min y <col>_max.\n",
    "    \"\"\"\n",
    "    # columnas numéricas a procesar (excluyendo id y tiempo)\n",
    "    numeric_cols = [c for c, dt in zip(df.columns, df.dtypes)\n",
    "                    if dt in [pl.Int32, pl.Int64, pl.Float32, pl.Float64]\n",
    "                    and c not in [\"numero_de_cliente\", \"foto_mes\"]]\n",
    "\n",
    "    # registrar DataFrame en DuckDB\n",
    "    con = duckdb.connect(database=\":memory:\")\n",
    "    con.register(\"df\", df)\n",
    "\n",
    "    # construir query dinámica\n",
    "    select_exprs = df.columns.copy()  # todas las columnas originales\n",
    "    for col in numeric_cols:\n",
    "        select_exprs.append(\n",
    "            f\"MIN({col}) OVER (PARTITION BY numero_de_cliente ORDER BY foto_mes ROWS BETWEEN UNBOUNDED PRECEDING AND CURRENT ROW) AS {col}_min\"\n",
    "        )\n",
    "        select_exprs.append(\n",
    "            f\"MAX({col}) OVER (PARTITION BY numero_de_cliente ORDER BY foto_mes ROWS BETWEEN UNBOUNDED PRECEDING AND CURRENT ROW) AS {col}_max\"\n",
    "        )\n",
    "\n",
    "    query = f\"SELECT {', '.join(select_exprs)} FROM df\"\n",
    "\n",
    "    # ejecutar la query y obtener el resultado como Polars\n",
    "    df_result = pl.from_arrow(con.execute(query).arrow())\n",
    "\n",
    "    con.close()\n",
    "    return df_result\n",
    "# aplicar la función\n",
    "df_final = add_running_min_max_polars(df)"
   ]
  },
  {
   "cell_type": "code",
   "execution_count": 8,
   "id": "7586fb65",
   "metadata": {},
   "outputs": [
    {
     "data": {
      "text/plain": [
       "(978439, 455)"
      ]
     },
     "execution_count": 8,
     "metadata": {},
     "output_type": "execute_result"
    }
   ],
   "source": [
    "#shape df_final\n",
    "# debe devolver: (136473, 122)\n",
    "df_final.shape"
   ]
  },
  {
   "cell_type": "code",
   "execution_count": 9,
   "id": "c7d9143f",
   "metadata": {},
   "outputs": [
    {
     "data": {
      "application/vnd.jupyter.widget-view+json": {
       "model_id": "c2b77e1ae6fd40d9ab3807579be72df4",
       "version_major": 2,
       "version_minor": 0
      },
      "text/plain": [
       "FloatProgress(value=0.0, layout=Layout(width='auto'), style=ProgressStyle(bar_color='black'))"
      ]
     },
     "metadata": {},
     "output_type": "display_data"
    }
   ],
   "source": [
    "import polars as pl\n",
    "import duckdb\n",
    "\n",
    "def add_diff_previous_months_to_df(df_final: pl.DataFrame, df_base: pl.DataFrame) -> pl.DataFrame:\n",
    "    \"\"\"\n",
    "    Calcula la diferencia de cada columna numérica original entre el mes actual\n",
    "    y el mes anterior, y entre el mes actual y dos meses atrás, para cada cliente.\n",
    "    Agrega las columnas al df_final.\n",
    "    \n",
    "    Parámetros:\n",
    "    -----------\n",
    "    df_final : pl.DataFrame\n",
    "        DataFrame que contiene ya las columnas originales + min/max acumuladas.\n",
    "    df_base : pl.DataFrame\n",
    "        DataFrame original con las columnas numéricas base y 'numero_de_cliente', 'foto_mes'.\n",
    "        \n",
    "    Retorna:\n",
    "    --------\n",
    "    df_final : pl.DataFrame\n",
    "        El mismo df_final con las columnas <col>_diff_prev y <col>_diff_prev2 agregadas.\n",
    "    \"\"\"\n",
    "    # columnas numéricas originales (sin min/max)\n",
    "    numeric_cols = [c for c, dt in zip(df_base.columns, df_base.dtypes)\n",
    "                    if dt in [pl.Int32, pl.Int64, pl.Float32, pl.Float64]\n",
    "                    and c not in [\"numero_de_cliente\", \"foto_mes\"]]\n",
    "\n",
    "    # registrar df_base en DuckDB\n",
    "    con = duckdb.connect(database=\":memory:\")\n",
    "    con.register(\"df\", df_base)\n",
    "\n",
    "    # construir query SQL para calcular diferencias\n",
    "    select_exprs = [\"numero_de_cliente\", \"foto_mes\"]\n",
    "    for col in numeric_cols:\n",
    "        # diferencia con el mes anterior\n",
    "        select_exprs.append(\n",
    "            f\"({col} - LAG({col}) OVER (PARTITION BY numero_de_cliente ORDER BY foto_mes)) AS {col}_diff_prev\"\n",
    "        )\n",
    "        # diferencia con dos meses atrás\n",
    "        select_exprs.append(\n",
    "            f\"({col} - LAG({col}, 2) OVER (PARTITION BY numero_de_cliente ORDER BY foto_mes)) AS {col}_diff_prev2\"\n",
    "        )\n",
    "\n",
    "    query = f\"SELECT {', '.join(select_exprs)} FROM df\"\n",
    "    \n",
    "    # ejecutar query y devolver resultados como Polars\n",
    "    df_diff = pl.from_arrow(con.execute(query).arrow())\n",
    "    con.close()\n",
    "\n",
    "    # unir df_diff con df_final usando numero_de_cliente y foto_mes\n",
    "    df_final = df_final.join(df_diff, on=[\"numero_de_cliente\", \"foto_mes\"], how=\"left\")\n",
    "\n",
    "    return df_final\n",
    "\n",
    "# df: DataFrame original con solo las columnas base\n",
    "# df_final: DataFrame que ya tiene columnas _min y _max\n",
    "df_final = add_diff_previous_months_to_df(df_final, df)"
   ]
  },
  {
   "cell_type": "code",
   "execution_count": 10,
   "id": "48e621bc",
   "metadata": {},
   "outputs": [
    {
     "data": {
      "text/plain": [
       "(978439, 755)"
      ]
     },
     "execution_count": 10,
     "metadata": {},
     "output_type": "execute_result"
    }
   ],
   "source": [
    "df_final.shape"
   ]
  },
  {
   "cell_type": "code",
   "execution_count": 11,
   "id": "dcfac0ae",
   "metadata": {},
   "outputs": [
    {
     "name": "stdout",
     "output_type": "stream",
     "text": [
      "True\n"
     ]
    }
   ],
   "source": [
    "#tiene df_final la columna \"clase_ternaria\"?\n",
    "print(\"clase_ternaria\" in df_final.columns) "
   ]
  },
  {
   "cell_type": "code",
   "execution_count": 12,
   "id": "76493df4",
   "metadata": {},
   "outputs": [],
   "source": [
    "# 7. Guardar el dataframe resultante en un nuevo CSV\n",
    "df_final.write_csv(\"df_confe.csv\")"
   ]
  },
  {
   "cell_type": "code",
   "execution_count": 13,
   "id": "5bafdf5a",
   "metadata": {},
   "outputs": [],
   "source": [
    "import duckdb\n"
   ]
  },
  {
   "cell_type": "code",
   "execution_count": 14,
   "id": "2b8a9366",
   "metadata": {},
   "outputs": [
    {
     "data": {
      "text/html": [
       "<div><style>\n",
       ".dataframe > thead > tr,\n",
       ".dataframe > tbody > tr {\n",
       "  text-align: right;\n",
       "  white-space: pre-wrap;\n",
       "}\n",
       "</style>\n",
       "<small>shape: (5, 755)</small><table border=\"1\" class=\"dataframe\"><thead><tr><th>numero_de_cliente</th><th>foto_mes</th><th>active_quarter</th><th>cliente_vip</th><th>internet</th><th>cliente_edad</th><th>cliente_antiguedad</th><th>mrentabilidad</th><th>mrentabilidad_annual</th><th>mcomisiones</th><th>mactivos_margen</th><th>mpasivos_margen</th><th>cproductos</th><th>tcuentas</th><th>ccuenta_corriente</th><th>mcuenta_corriente_adicional</th><th>mcuenta_corriente</th><th>ccaja_ahorro</th><th>mcaja_ahorro</th><th>mcaja_ahorro_adicional</th><th>mcaja_ahorro_dolares</th><th>cdescubierto_preacordado</th><th>mcuentas_saldo</th><th>ctarjeta_debito</th><th>ctarjeta_debito_transacciones</th><th>mautoservicio</th><th>ctarjeta_visa</th><th>ctarjeta_visa_transacciones</th><th>mtarjeta_visa_consumo</th><th>ctarjeta_master</th><th>ctarjeta_master_transacciones</th><th>mtarjeta_master_consumo</th><th>cprestamos_personales</th><th>mprestamos_personales</th><th>cprestamos_prendarios</th><th>mprestamos_prendarios</th><th>cprestamos_hipotecarios</th><th>&hellip;</th><th>Visa_mfinanciacion_limite_diff_prev2</th><th>Visa_Fvencimiento_diff_prev</th><th>Visa_Fvencimiento_diff_prev2</th><th>Visa_msaldototal_diff_prev</th><th>Visa_msaldototal_diff_prev2</th><th>Visa_msaldopesos_diff_prev</th><th>Visa_msaldopesos_diff_prev2</th><th>Visa_msaldodolares_diff_prev</th><th>Visa_msaldodolares_diff_prev2</th><th>Visa_mconsumospesos_diff_prev</th><th>Visa_mconsumospesos_diff_prev2</th><th>Visa_mconsumosdolares_diff_prev</th><th>Visa_mconsumosdolares_diff_prev2</th><th>Visa_mlimitecompra_diff_prev</th><th>Visa_mlimitecompra_diff_prev2</th><th>Visa_madelantopesos_diff_prev</th><th>Visa_madelantopesos_diff_prev2</th><th>Visa_madelantodolares_diff_prev</th><th>Visa_madelantodolares_diff_prev2</th><th>Visa_fultimo_cierre_diff_prev</th><th>Visa_fultimo_cierre_diff_prev2</th><th>Visa_mpagado_diff_prev</th><th>Visa_mpagado_diff_prev2</th><th>Visa_mpagospesos_diff_prev</th><th>Visa_mpagospesos_diff_prev2</th><th>Visa_mpagosdolares_diff_prev</th><th>Visa_mpagosdolares_diff_prev2</th><th>Visa_fechaalta_diff_prev</th><th>Visa_fechaalta_diff_prev2</th><th>Visa_mconsumototal_diff_prev</th><th>Visa_mconsumototal_diff_prev2</th><th>Visa_cconsumos_diff_prev</th><th>Visa_cconsumos_diff_prev2</th><th>Visa_cadelantosefectivo_diff_prev</th><th>Visa_cadelantosefectivo_diff_prev2</th><th>Visa_mpagominimo_diff_prev</th><th>Visa_mpagominimo_diff_prev2</th></tr><tr><td>i64</td><td>i64</td><td>i64</td><td>i64</td><td>i64</td><td>i64</td><td>i64</td><td>f64</td><td>f64</td><td>f64</td><td>f64</td><td>f64</td><td>i64</td><td>i64</td><td>i64</td><td>f64</td><td>f64</td><td>i64</td><td>f64</td><td>f64</td><td>f64</td><td>i64</td><td>f64</td><td>i64</td><td>i64</td><td>f64</td><td>i64</td><td>i64</td><td>f64</td><td>i64</td><td>i64</td><td>f64</td><td>i64</td><td>f64</td><td>i64</td><td>f64</td><td>i64</td><td>&hellip;</td><td>f64</td><td>i64</td><td>i64</td><td>f64</td><td>f64</td><td>f64</td><td>f64</td><td>f64</td><td>f64</td><td>f64</td><td>f64</td><td>f64</td><td>f64</td><td>f64</td><td>f64</td><td>f64</td><td>f64</td><td>f64</td><td>f64</td><td>i64</td><td>i64</td><td>f64</td><td>f64</td><td>f64</td><td>f64</td><td>f64</td><td>f64</td><td>i64</td><td>i64</td><td>f64</td><td>f64</td><td>i64</td><td>i64</td><td>i64</td><td>i64</td><td>f64</td><td>f64</td></tr></thead><tbody><tr><td>249320580</td><td>202101</td><td>1</td><td>0</td><td>0</td><td>63</td><td>279</td><td>508.8</td><td>17140.27</td><td>896.11</td><td>0.0</td><td>-330.19</td><td>8</td><td>1</td><td>1</td><td>0.0</td><td>0.0</td><td>4</td><td>43297.51</td><td>0.0</td><td>100.35</td><td>1</td><td>77358.39</td><td>2</td><td>9</td><td>27877.92</td><td>1</td><td>0</td><td>0.0</td><td>1</td><td>0</td><td>0.0</td><td>0</td><td>0.0</td><td>0</td><td>0.0</td><td>0</td><td>&hellip;</td><td>null</td><td>null</td><td>null</td><td>null</td><td>null</td><td>null</td><td>null</td><td>null</td><td>null</td><td>null</td><td>null</td><td>null</td><td>null</td><td>null</td><td>null</td><td>null</td><td>null</td><td>null</td><td>null</td><td>null</td><td>null</td><td>null</td><td>null</td><td>null</td><td>null</td><td>null</td><td>null</td><td>null</td><td>null</td><td>null</td><td>null</td><td>null</td><td>null</td><td>null</td><td>null</td><td>null</td><td>null</td></tr><tr><td>249320580</td><td>202102</td><td>1</td><td>0</td><td>0</td><td>63</td><td>280</td><td>2494.79</td><td>18472.46</td><td>2015.94</td><td>0.66</td><td>407.57</td><td>8</td><td>1</td><td>1</td><td>0.0</td><td>-31.07</td><td>4</td><td>34954.32</td><td>0.0</td><td>103.25</td><td>1</td><td>80323.91</td><td>2</td><td>9</td><td>30659.34</td><td>1</td><td>0</td><td>0.0</td><td>1</td><td>0</td><td>0.0</td><td>0</td><td>0.0</td><td>0</td><td>0.0</td><td>0</td><td>&hellip;</td><td>null</td><td>28</td><td>null</td><td>0.0</td><td>null</td><td>0.0</td><td>null</td><td>0.0</td><td>null</td><td>null</td><td>null</td><td>null</td><td>null</td><td>0.0</td><td>null</td><td>null</td><td>null</td><td>null</td><td>null</td><td>-7</td><td>null</td><td>0.0</td><td>null</td><td>null</td><td>null</td><td>null</td><td>null</td><td>28</td><td>null</td><td>null</td><td>null</td><td>null</td><td>null</td><td>null</td><td>null</td><td>0.0</td><td>null</td></tr><tr><td>249320580</td><td>202103</td><td>1</td><td>0</td><td>0</td><td>63</td><td>281</td><td>3207.66</td><td>19030.88</td><td>2519.75</td><td>0.0</td><td>586.45</td><td>8</td><td>1</td><td>1</td><td>0.0</td><td>0.0</td><td>4</td><td>44960.66</td><td>0.0</td><td>105.74</td><td>1</td><td>69725.36</td><td>2</td><td>13</td><td>41845.43</td><td>1</td><td>0</td><td>0.0</td><td>1</td><td>0</td><td>0.0</td><td>0</td><td>0.0</td><td>0</td><td>0.0</td><td>0</td><td>&hellip;</td><td>0.0</td><td>31</td><td>59</td><td>0.0</td><td>0.0</td><td>0.0</td><td>0.0</td><td>0.0</td><td>0.0</td><td>null</td><td>null</td><td>null</td><td>null</td><td>0.0</td><td>0.0</td><td>null</td><td>null</td><td>null</td><td>null</td><td>4</td><td>-3</td><td>0.0</td><td>0.0</td><td>null</td><td>null</td><td>null</td><td>null</td><td>31</td><td>59</td><td>null</td><td>null</td><td>null</td><td>null</td><td>null</td><td>null</td><td>0.0</td><td>0.0</td></tr><tr><td>249320580</td><td>202104</td><td>1</td><td>0</td><td>0</td><td>64</td><td>282</td><td>3122.15</td><td>19147.05</td><td>2472.63</td><td>0.0</td><td>553.72</td><td>8</td><td>1</td><td>1</td><td>0.0</td><td>0.0</td><td>4</td><td>43728.23</td><td>0.0</td><td>107.54</td><td>1</td><td>91103.07</td><td>2</td><td>11</td><td>34122.88</td><td>1</td><td>0</td><td>0.0</td><td>1</td><td>0</td><td>0.0</td><td>0</td><td>0.0</td><td>0</td><td>0.0</td><td>0</td><td>&hellip;</td><td>0.0</td><td>30</td><td>61</td><td>0.0</td><td>0.0</td><td>0.0</td><td>0.0</td><td>0.0</td><td>0.0</td><td>null</td><td>null</td><td>null</td><td>null</td><td>0.0</td><td>0.0</td><td>null</td><td>null</td><td>null</td><td>null</td><td>1</td><td>5</td><td>0.0</td><td>0.0</td><td>null</td><td>null</td><td>null</td><td>null</td><td>30</td><td>61</td><td>null</td><td>null</td><td>null</td><td>null</td><td>null</td><td>null</td><td>0.0</td><td>0.0</td></tr><tr><td>249320580</td><td>202105</td><td>1</td><td>0</td><td>0</td><td>64</td><td>283</td><td>3455.86</td><td>20443.48</td><td>2520.36</td><td>0.0</td><td>797.53</td><td>8</td><td>1</td><td>1</td><td>0.0</td><td>0.0</td><td>4</td><td>60910.65</td><td>0.0</td><td>108.84</td><td>1</td><td>95203.09</td><td>2</td><td>11</td><td>45436.8</td><td>1</td><td>0</td><td>0.0</td><td>1</td><td>0</td><td>0.0</td><td>0</td><td>0.0</td><td>0</td><td>0.0</td><td>0</td><td>&hellip;</td><td>0.0</td><td>31</td><td>61</td><td>0.0</td><td>0.0</td><td>0.0</td><td>0.0</td><td>0.0</td><td>0.0</td><td>null</td><td>null</td><td>null</td><td>null</td><td>0.0</td><td>0.0</td><td>null</td><td>null</td><td>null</td><td>null</td><td>3</td><td>4</td><td>0.0</td><td>0.0</td><td>null</td><td>null</td><td>null</td><td>null</td><td>31</td><td>61</td><td>null</td><td>null</td><td>null</td><td>null</td><td>null</td><td>null</td><td>0.0</td><td>0.0</td></tr></tbody></table></div>"
      ],
      "text/plain": [
       "shape: (5, 755)\n",
       "┌───────────┬──────────┬───────────┬───────────┬───┬───────────┬───────────┬───────────┬───────────┐\n",
       "│ numero_de ┆ foto_mes ┆ active_qu ┆ cliente_v ┆ … ┆ Visa_cade ┆ Visa_cade ┆ Visa_mpag ┆ Visa_mpag │\n",
       "│ _cliente  ┆ ---      ┆ arter     ┆ ip        ┆   ┆ lantosefe ┆ lantosefe ┆ ominimo_d ┆ ominimo_d │\n",
       "│ ---       ┆ i64      ┆ ---       ┆ ---       ┆   ┆ ctivo_dif ┆ ctivo_dif ┆ iff_prev  ┆ iff_prev2 │\n",
       "│ i64       ┆          ┆ i64       ┆ i64       ┆   ┆ f_p…      ┆ f_p…      ┆ ---       ┆ ---       │\n",
       "│           ┆          ┆           ┆           ┆   ┆ ---       ┆ ---       ┆ f64       ┆ f64       │\n",
       "│           ┆          ┆           ┆           ┆   ┆ i64       ┆ i64       ┆           ┆           │\n",
       "╞═══════════╪══════════╪═══════════╪═══════════╪═══╪═══════════╪═══════════╪═══════════╪═══════════╡\n",
       "│ 249320580 ┆ 202101   ┆ 1         ┆ 0         ┆ … ┆ null      ┆ null      ┆ null      ┆ null      │\n",
       "│ 249320580 ┆ 202102   ┆ 1         ┆ 0         ┆ … ┆ null      ┆ null      ┆ 0.0       ┆ null      │\n",
       "│ 249320580 ┆ 202103   ┆ 1         ┆ 0         ┆ … ┆ null      ┆ null      ┆ 0.0       ┆ 0.0       │\n",
       "│ 249320580 ┆ 202104   ┆ 1         ┆ 0         ┆ … ┆ null      ┆ null      ┆ 0.0       ┆ 0.0       │\n",
       "│ 249320580 ┆ 202105   ┆ 1         ┆ 0         ┆ … ┆ null      ┆ null      ┆ 0.0       ┆ 0.0       │\n",
       "└───────────┴──────────┴───────────┴───────────┴───┴───────────┴───────────┴───────────┴───────────┘"
      ]
     },
     "execution_count": 14,
     "metadata": {},
     "output_type": "execute_result"
    }
   ],
   "source": [
    "df_final.head(\n",
    "    \n",
    ")"
   ]
  },
  {
   "cell_type": "code",
   "execution_count": null,
   "id": "685eb791",
   "metadata": {},
   "outputs": [],
   "source": []
  },
  {
   "cell_type": "markdown",
   "id": "c4c6b731",
   "metadata": {},
   "source": [
    "##SLOPES\n"
   ]
  },
  {
   "cell_type": "code",
   "execution_count": 15,
   "id": "4ba0f15f",
   "metadata": {},
   "outputs": [
    {
     "data": {
      "application/vnd.jupyter.widget-view+json": {
       "model_id": "ddcb8069d4ae4482bfb04706c848aea9",
       "version_major": 2,
       "version_minor": 0
      },
      "text/plain": [
       "FloatProgress(value=0.0, layout=Layout(width='auto'), style=ProgressStyle(bar_color='black'))"
      ]
     },
     "metadata": {},
     "output_type": "display_data"
    },
    {
     "name": "stdout",
     "output_type": "stream",
     "text": [
      "   numero_de_cliente  foto_mes  active_quarter  cliente_vip  internet  \\\n",
      "0          745470821    202103               1            0         0   \n",
      "1          745470821    202104               1            0         0   \n",
      "2          745470821    202105               1            0         0   \n",
      "3          745470821    202106               1            0         0   \n",
      "4          745479642    202101               1            0         0   \n",
      "\n",
      "   cliente_edad  cliente_antiguedad  mrentabilidad  mrentabilidad_annual  \\\n",
      "0            54                 123       -2549.12             -34446.58   \n",
      "1            54                 124         -55.40             -38196.66   \n",
      "2            54                 125       -1471.18             -41131.71   \n",
      "3            54                 126       -2161.27             -42742.65   \n",
      "4            45                  60         -82.53              -2801.55   \n",
      "\n",
      "   mcomisiones  ...  slope_Visa_mconsumosdolares  slope_Visa_mlimitecompra  \\\n",
      "0      5238.89  ...                     1.014857              16801.972571   \n",
      "1      6206.08  ...                     1.014857              16801.972571   \n",
      "2      7082.49  ...                     1.014857              16801.972571   \n",
      "3      2827.15  ...                     1.014857              16801.972571   \n",
      "4       -68.18  ...                     0.000000                  0.000000   \n",
      "\n",
      "   slope_Visa_madelantopesos  slope_Visa_madelantodolares  slope_Visa_mpagado  \\\n",
      "0                        0.0                          0.0                 0.0   \n",
      "1                        0.0                          0.0                 0.0   \n",
      "2                        0.0                          0.0                 0.0   \n",
      "3                        0.0                          0.0                 0.0   \n",
      "4                        0.0                          0.0                 0.0   \n",
      "\n",
      "   slope_Visa_mpagospesos  slope_Visa_mpagosdolares  slope_Visa_mconsumototal  \\\n",
      "0            10961.798000                       0.0               4087.226857   \n",
      "1            10961.798000                       0.0               4087.226857   \n",
      "2            10961.798000                       0.0               4087.226857   \n",
      "3            10961.798000                       0.0               4087.226857   \n",
      "4              808.007143                       0.0                 77.905429   \n",
      "\n",
      "   slope_Visa_cconsumos  slope_Visa_cadelantosefectivo  \n",
      "0              0.971429                            0.0  \n",
      "1              0.971429                            0.0  \n",
      "2              0.971429                            0.0  \n",
      "3              0.971429                            0.0  \n",
      "4              0.000000                            0.0  \n",
      "\n",
      "[5 rows x 906 columns]\n"
     ]
    }
   ],
   "source": [
    "import duckdb\n",
    "import pandas as pd\n",
    "\n",
    "# 1️⃣ Conectar a DuckDB en disco\n",
    "conn = duckdb.connect(database=\"mi_proyecto.duckdb\")\n",
    "\n",
    "# 2️⃣ Ajustar parámetros de memoria\n",
    "conn.execute(\"SET memory_limit='4GB'\")\n",
    "conn.execute(\"SET threads=2\")\n",
    "conn.execute(\"SET preserve_insertion_order=false\")\n",
    "\n",
    "# 3️⃣ Registrar CSV como tabla si no lo hiciste antes\n",
    "conn.execute(\"\"\"\n",
    "    CREATE OR REPLACE TABLE tabla_confe AS\n",
    "    SELECT * FROM read_csv_auto('data/df_confe.csv', header=True)\n",
    "\"\"\")\n",
    "\n",
    "# 4️⃣ Obtener esquema y filtrar columnas numéricas\n",
    "schema_df = conn.execute(\"DESCRIBE tabla_confe\").fetchdf()\n",
    "\n",
    "cols_numericas = schema_df.loc[\n",
    "    (~schema_df['column_type'].isin(['INTEGER', 'VARCHAR'])) &\n",
    "    (~schema_df['column_name'].str.endswith('_lag1')) &\n",
    "    (~schema_df['column_name'].str.endswith('_avg_3')) &\n",
    "    (~schema_df['column_name'].str.contains('diff')) &\n",
    "    (~schema_df['column_name'].str.contains('min')) &\n",
    "    (~schema_df['column_name'].str.contains('max')) &\n",
    "    (~schema_df['column_name'].str.startswith('Visa_f')) &\n",
    "    (~schema_df['column_name'].str.startswith('Master_f')),\n",
    "    'column_name'\n",
    "].tolist()\n",
    "\n",
    "# Excluir columnas adicionales fijas\n",
    "excluir = ['numero_de_cliente', 'foto_mes', 'internet', 'cliente_edad', 'cliente_antiguedad']\n",
    "cols_numericas = [c for c in cols_numericas if c not in excluir]\n",
    "\n",
    "# 5️⃣ Procesar columnas en bloques\n",
    "block_size = 50  # ajusta según tu RAM\n",
    "for i in range(0, len(cols_numericas), block_size):\n",
    "    block_cols = cols_numericas[i:i+block_size]\n",
    "\n",
    "    # Crear expresiones REGR_SLOPE para este bloque\n",
    "    regr_expr = [\n",
    "        f\"\"\"CAST(\n",
    "            CASE\n",
    "                WHEN NOT isfinite(REGR_SLOPE({col}, cliente_antiguedad)) THEN 0\n",
    "                ELSE REGR_SLOPE({col}, cliente_antiguedad)\n",
    "            END AS DOUBLE\n",
    "        ) AS slope_{col}\"\"\"\n",
    "        for col in block_cols\n",
    "    ]\n",
    "\n",
    "    # Crear tabla temporal de slopes de este bloque\n",
    "    query_slopes = f\"\"\"\n",
    "    CREATE OR REPLACE TABLE df_slopes_block AS\n",
    "    SELECT numero_de_cliente,\n",
    "           {', '.join(regr_expr)}\n",
    "    FROM tabla_confe\n",
    "    GROUP BY numero_de_cliente\n",
    "    \"\"\"\n",
    "    conn.execute(query_slopes)\n",
    "\n",
    "    # Si es el primer bloque, creamos la tabla final\n",
    "    if i == 0:\n",
    "        conn.execute(\"CREATE OR REPLACE TABLE tabla_confe_slopes AS SELECT * FROM tabla_confe\")\n",
    "    \n",
    "    # Hacemos LEFT JOIN incremental\n",
    "    conn.execute(f\"\"\"\n",
    "    CREATE OR REPLACE TABLE tabla_confe_slopes AS\n",
    "    SELECT t.*, s.*\n",
    "    FROM tabla_confe_slopes t\n",
    "    LEFT JOIN df_slopes_block s USING (numero_de_cliente)\n",
    "    \"\"\")\n",
    "\n",
    "# 6️⃣ Traer una muestra a Pandas\n",
    "df_final_slopes = conn.execute(\"SELECT * FROM tabla_confe_slopes LIMIT 1000\").fetchdf()\n",
    "print(df_final_slopes.head())\n"
   ]
  },
  {
   "cell_type": "code",
   "execution_count": 16,
   "id": "e3a7a66f",
   "metadata": {},
   "outputs": [
    {
     "data": {
      "application/vnd.jupyter.widget-view+json": {
       "model_id": "8f6558be102846beb4e5ae25b0ec3aae",
       "version_major": 2,
       "version_minor": 0
      },
      "text/plain": [
       "FloatProgress(value=0.0, layout=Layout(width='auto'), style=ProgressStyle(bar_color='black'))"
      ]
     },
     "metadata": {},
     "output_type": "display_data"
    },
    {
     "data": {
      "text/plain": [
       "<duckdb.duckdb.DuckDBPyConnection at 0x20223429c70>"
      ]
     },
     "execution_count": 16,
     "metadata": {},
     "output_type": "execute_result"
    }
   ],
   "source": [
    "# Exportar todo a un nuevo CSV\n",
    "conn.execute(\"\"\"\n",
    "COPY tabla_confe_slopes \n",
    "TO 'data/df_confe_slopes.csv' \n",
    "WITH (HEADER, DELIMITER ',')\n",
    "\"\"\")\n"
   ]
  },
  {
   "cell_type": "code",
   "execution_count": 17,
   "id": "d9b5d911",
   "metadata": {},
   "outputs": [
    {
     "data": {
      "text/html": [
       "<div>\n",
       "<style scoped>\n",
       "    .dataframe tbody tr th:only-of-type {\n",
       "        vertical-align: middle;\n",
       "    }\n",
       "\n",
       "    .dataframe tbody tr th {\n",
       "        vertical-align: top;\n",
       "    }\n",
       "\n",
       "    .dataframe thead th {\n",
       "        text-align: right;\n",
       "    }\n",
       "</style>\n",
       "<table border=\"1\" class=\"dataframe\">\n",
       "  <thead>\n",
       "    <tr style=\"text-align: right;\">\n",
       "      <th></th>\n",
       "      <th>numero_de_cliente</th>\n",
       "      <th>foto_mes</th>\n",
       "      <th>active_quarter</th>\n",
       "      <th>cliente_vip</th>\n",
       "      <th>internet</th>\n",
       "      <th>cliente_edad</th>\n",
       "      <th>cliente_antiguedad</th>\n",
       "      <th>mrentabilidad</th>\n",
       "      <th>mrentabilidad_annual</th>\n",
       "      <th>mcomisiones</th>\n",
       "      <th>...</th>\n",
       "      <th>slope_Visa_mconsumosdolares</th>\n",
       "      <th>slope_Visa_mlimitecompra</th>\n",
       "      <th>slope_Visa_madelantopesos</th>\n",
       "      <th>slope_Visa_madelantodolares</th>\n",
       "      <th>slope_Visa_mpagado</th>\n",
       "      <th>slope_Visa_mpagospesos</th>\n",
       "      <th>slope_Visa_mpagosdolares</th>\n",
       "      <th>slope_Visa_mconsumototal</th>\n",
       "      <th>slope_Visa_cconsumos</th>\n",
       "      <th>slope_Visa_cadelantosefectivo</th>\n",
       "    </tr>\n",
       "  </thead>\n",
       "  <tbody>\n",
       "    <tr>\n",
       "      <th>0</th>\n",
       "      <td>745470821</td>\n",
       "      <td>202103</td>\n",
       "      <td>1</td>\n",
       "      <td>0</td>\n",
       "      <td>0</td>\n",
       "      <td>54</td>\n",
       "      <td>123</td>\n",
       "      <td>-2549.12</td>\n",
       "      <td>-34446.58</td>\n",
       "      <td>5238.89</td>\n",
       "      <td>...</td>\n",
       "      <td>1.014857</td>\n",
       "      <td>16801.972571</td>\n",
       "      <td>0.0</td>\n",
       "      <td>0.0</td>\n",
       "      <td>0.0</td>\n",
       "      <td>10961.798000</td>\n",
       "      <td>0.0</td>\n",
       "      <td>4087.226857</td>\n",
       "      <td>0.971429</td>\n",
       "      <td>0.0</td>\n",
       "    </tr>\n",
       "    <tr>\n",
       "      <th>1</th>\n",
       "      <td>745470821</td>\n",
       "      <td>202104</td>\n",
       "      <td>1</td>\n",
       "      <td>0</td>\n",
       "      <td>0</td>\n",
       "      <td>54</td>\n",
       "      <td>124</td>\n",
       "      <td>-55.40</td>\n",
       "      <td>-38196.66</td>\n",
       "      <td>6206.08</td>\n",
       "      <td>...</td>\n",
       "      <td>1.014857</td>\n",
       "      <td>16801.972571</td>\n",
       "      <td>0.0</td>\n",
       "      <td>0.0</td>\n",
       "      <td>0.0</td>\n",
       "      <td>10961.798000</td>\n",
       "      <td>0.0</td>\n",
       "      <td>4087.226857</td>\n",
       "      <td>0.971429</td>\n",
       "      <td>0.0</td>\n",
       "    </tr>\n",
       "    <tr>\n",
       "      <th>2</th>\n",
       "      <td>745470821</td>\n",
       "      <td>202105</td>\n",
       "      <td>1</td>\n",
       "      <td>0</td>\n",
       "      <td>0</td>\n",
       "      <td>54</td>\n",
       "      <td>125</td>\n",
       "      <td>-1471.18</td>\n",
       "      <td>-41131.71</td>\n",
       "      <td>7082.49</td>\n",
       "      <td>...</td>\n",
       "      <td>1.014857</td>\n",
       "      <td>16801.972571</td>\n",
       "      <td>0.0</td>\n",
       "      <td>0.0</td>\n",
       "      <td>0.0</td>\n",
       "      <td>10961.798000</td>\n",
       "      <td>0.0</td>\n",
       "      <td>4087.226857</td>\n",
       "      <td>0.971429</td>\n",
       "      <td>0.0</td>\n",
       "    </tr>\n",
       "    <tr>\n",
       "      <th>3</th>\n",
       "      <td>745470821</td>\n",
       "      <td>202106</td>\n",
       "      <td>1</td>\n",
       "      <td>0</td>\n",
       "      <td>0</td>\n",
       "      <td>54</td>\n",
       "      <td>126</td>\n",
       "      <td>-2161.27</td>\n",
       "      <td>-42742.65</td>\n",
       "      <td>2827.15</td>\n",
       "      <td>...</td>\n",
       "      <td>1.014857</td>\n",
       "      <td>16801.972571</td>\n",
       "      <td>0.0</td>\n",
       "      <td>0.0</td>\n",
       "      <td>0.0</td>\n",
       "      <td>10961.798000</td>\n",
       "      <td>0.0</td>\n",
       "      <td>4087.226857</td>\n",
       "      <td>0.971429</td>\n",
       "      <td>0.0</td>\n",
       "    </tr>\n",
       "    <tr>\n",
       "      <th>4</th>\n",
       "      <td>745479642</td>\n",
       "      <td>202101</td>\n",
       "      <td>1</td>\n",
       "      <td>0</td>\n",
       "      <td>0</td>\n",
       "      <td>45</td>\n",
       "      <td>60</td>\n",
       "      <td>-82.53</td>\n",
       "      <td>-2801.55</td>\n",
       "      <td>-68.18</td>\n",
       "      <td>...</td>\n",
       "      <td>0.000000</td>\n",
       "      <td>0.000000</td>\n",
       "      <td>0.0</td>\n",
       "      <td>0.0</td>\n",
       "      <td>0.0</td>\n",
       "      <td>808.007143</td>\n",
       "      <td>0.0</td>\n",
       "      <td>77.905429</td>\n",
       "      <td>0.000000</td>\n",
       "      <td>0.0</td>\n",
       "    </tr>\n",
       "    <tr>\n",
       "      <th>5</th>\n",
       "      <td>745479642</td>\n",
       "      <td>202102</td>\n",
       "      <td>1</td>\n",
       "      <td>0</td>\n",
       "      <td>0</td>\n",
       "      <td>46</td>\n",
       "      <td>61</td>\n",
       "      <td>405.20</td>\n",
       "      <td>-2882.69</td>\n",
       "      <td>105.85</td>\n",
       "      <td>...</td>\n",
       "      <td>0.000000</td>\n",
       "      <td>0.000000</td>\n",
       "      <td>0.0</td>\n",
       "      <td>0.0</td>\n",
       "      <td>0.0</td>\n",
       "      <td>808.007143</td>\n",
       "      <td>0.0</td>\n",
       "      <td>77.905429</td>\n",
       "      <td>0.000000</td>\n",
       "      <td>0.0</td>\n",
       "    </tr>\n",
       "    <tr>\n",
       "      <th>6</th>\n",
       "      <td>745479642</td>\n",
       "      <td>202103</td>\n",
       "      <td>1</td>\n",
       "      <td>0</td>\n",
       "      <td>0</td>\n",
       "      <td>46</td>\n",
       "      <td>62</td>\n",
       "      <td>363.67</td>\n",
       "      <td>-3276.20</td>\n",
       "      <td>111.58</td>\n",
       "      <td>...</td>\n",
       "      <td>0.000000</td>\n",
       "      <td>0.000000</td>\n",
       "      <td>0.0</td>\n",
       "      <td>0.0</td>\n",
       "      <td>0.0</td>\n",
       "      <td>808.007143</td>\n",
       "      <td>0.0</td>\n",
       "      <td>77.905429</td>\n",
       "      <td>0.000000</td>\n",
       "      <td>0.0</td>\n",
       "    </tr>\n",
       "    <tr>\n",
       "      <th>7</th>\n",
       "      <td>745479642</td>\n",
       "      <td>202104</td>\n",
       "      <td>1</td>\n",
       "      <td>0</td>\n",
       "      <td>0</td>\n",
       "      <td>46</td>\n",
       "      <td>63</td>\n",
       "      <td>450.25</td>\n",
       "      <td>-3730.73</td>\n",
       "      <td>195.60</td>\n",
       "      <td>...</td>\n",
       "      <td>0.000000</td>\n",
       "      <td>0.000000</td>\n",
       "      <td>0.0</td>\n",
       "      <td>0.0</td>\n",
       "      <td>0.0</td>\n",
       "      <td>808.007143</td>\n",
       "      <td>0.0</td>\n",
       "      <td>77.905429</td>\n",
       "      <td>0.000000</td>\n",
       "      <td>0.0</td>\n",
       "    </tr>\n",
       "    <tr>\n",
       "      <th>8</th>\n",
       "      <td>745479642</td>\n",
       "      <td>202105</td>\n",
       "      <td>1</td>\n",
       "      <td>0</td>\n",
       "      <td>0</td>\n",
       "      <td>46</td>\n",
       "      <td>64</td>\n",
       "      <td>331.90</td>\n",
       "      <td>-1494.44</td>\n",
       "      <td>99.10</td>\n",
       "      <td>...</td>\n",
       "      <td>0.000000</td>\n",
       "      <td>0.000000</td>\n",
       "      <td>0.0</td>\n",
       "      <td>0.0</td>\n",
       "      <td>0.0</td>\n",
       "      <td>808.007143</td>\n",
       "      <td>0.0</td>\n",
       "      <td>77.905429</td>\n",
       "      <td>0.000000</td>\n",
       "      <td>0.0</td>\n",
       "    </tr>\n",
       "    <tr>\n",
       "      <th>9</th>\n",
       "      <td>745479642</td>\n",
       "      <td>202106</td>\n",
       "      <td>1</td>\n",
       "      <td>0</td>\n",
       "      <td>0</td>\n",
       "      <td>46</td>\n",
       "      <td>65</td>\n",
       "      <td>98.42</td>\n",
       "      <td>333.30</td>\n",
       "      <td>101.83</td>\n",
       "      <td>...</td>\n",
       "      <td>0.000000</td>\n",
       "      <td>0.000000</td>\n",
       "      <td>0.0</td>\n",
       "      <td>0.0</td>\n",
       "      <td>0.0</td>\n",
       "      <td>808.007143</td>\n",
       "      <td>0.0</td>\n",
       "      <td>77.905429</td>\n",
       "      <td>0.000000</td>\n",
       "      <td>0.0</td>\n",
       "    </tr>\n",
       "  </tbody>\n",
       "</table>\n",
       "<p>10 rows × 906 columns</p>\n",
       "</div>"
      ],
      "text/plain": [
       "   numero_de_cliente  foto_mes  active_quarter  cliente_vip  internet  \\\n",
       "0          745470821    202103               1            0         0   \n",
       "1          745470821    202104               1            0         0   \n",
       "2          745470821    202105               1            0         0   \n",
       "3          745470821    202106               1            0         0   \n",
       "4          745479642    202101               1            0         0   \n",
       "5          745479642    202102               1            0         0   \n",
       "6          745479642    202103               1            0         0   \n",
       "7          745479642    202104               1            0         0   \n",
       "8          745479642    202105               1            0         0   \n",
       "9          745479642    202106               1            0         0   \n",
       "\n",
       "   cliente_edad  cliente_antiguedad  mrentabilidad  mrentabilidad_annual  \\\n",
       "0            54                 123       -2549.12             -34446.58   \n",
       "1            54                 124         -55.40             -38196.66   \n",
       "2            54                 125       -1471.18             -41131.71   \n",
       "3            54                 126       -2161.27             -42742.65   \n",
       "4            45                  60         -82.53              -2801.55   \n",
       "5            46                  61         405.20              -2882.69   \n",
       "6            46                  62         363.67              -3276.20   \n",
       "7            46                  63         450.25              -3730.73   \n",
       "8            46                  64         331.90              -1494.44   \n",
       "9            46                  65          98.42                333.30   \n",
       "\n",
       "   mcomisiones  ...  slope_Visa_mconsumosdolares  slope_Visa_mlimitecompra  \\\n",
       "0      5238.89  ...                     1.014857              16801.972571   \n",
       "1      6206.08  ...                     1.014857              16801.972571   \n",
       "2      7082.49  ...                     1.014857              16801.972571   \n",
       "3      2827.15  ...                     1.014857              16801.972571   \n",
       "4       -68.18  ...                     0.000000                  0.000000   \n",
       "5       105.85  ...                     0.000000                  0.000000   \n",
       "6       111.58  ...                     0.000000                  0.000000   \n",
       "7       195.60  ...                     0.000000                  0.000000   \n",
       "8        99.10  ...                     0.000000                  0.000000   \n",
       "9       101.83  ...                     0.000000                  0.000000   \n",
       "\n",
       "   slope_Visa_madelantopesos  slope_Visa_madelantodolares  slope_Visa_mpagado  \\\n",
       "0                        0.0                          0.0                 0.0   \n",
       "1                        0.0                          0.0                 0.0   \n",
       "2                        0.0                          0.0                 0.0   \n",
       "3                        0.0                          0.0                 0.0   \n",
       "4                        0.0                          0.0                 0.0   \n",
       "5                        0.0                          0.0                 0.0   \n",
       "6                        0.0                          0.0                 0.0   \n",
       "7                        0.0                          0.0                 0.0   \n",
       "8                        0.0                          0.0                 0.0   \n",
       "9                        0.0                          0.0                 0.0   \n",
       "\n",
       "   slope_Visa_mpagospesos  slope_Visa_mpagosdolares  slope_Visa_mconsumototal  \\\n",
       "0            10961.798000                       0.0               4087.226857   \n",
       "1            10961.798000                       0.0               4087.226857   \n",
       "2            10961.798000                       0.0               4087.226857   \n",
       "3            10961.798000                       0.0               4087.226857   \n",
       "4              808.007143                       0.0                 77.905429   \n",
       "5              808.007143                       0.0                 77.905429   \n",
       "6              808.007143                       0.0                 77.905429   \n",
       "7              808.007143                       0.0                 77.905429   \n",
       "8              808.007143                       0.0                 77.905429   \n",
       "9              808.007143                       0.0                 77.905429   \n",
       "\n",
       "   slope_Visa_cconsumos  slope_Visa_cadelantosefectivo  \n",
       "0              0.971429                            0.0  \n",
       "1              0.971429                            0.0  \n",
       "2              0.971429                            0.0  \n",
       "3              0.971429                            0.0  \n",
       "4              0.000000                            0.0  \n",
       "5              0.000000                            0.0  \n",
       "6              0.000000                            0.0  \n",
       "7              0.000000                            0.0  \n",
       "8              0.000000                            0.0  \n",
       "9              0.000000                            0.0  \n",
       "\n",
       "[10 rows x 906 columns]"
      ]
     },
     "execution_count": 17,
     "metadata": {},
     "output_type": "execute_result"
    }
   ],
   "source": [
    "df_final_slopes.head(10)\n"
   ]
  }
 ],
 "metadata": {
  "kernelspec": {
   "display_name": "venv",
   "language": "python",
   "name": "python3"
  },
  "language_info": {
   "codemirror_mode": {
    "name": "ipython",
    "version": 3
   },
   "file_extension": ".py",
   "mimetype": "text/x-python",
   "name": "python",
   "nbconvert_exporter": "python",
   "pygments_lexer": "ipython3",
   "version": "3.11.9"
  }
 },
 "nbformat": 4,
 "nbformat_minor": 5
}
