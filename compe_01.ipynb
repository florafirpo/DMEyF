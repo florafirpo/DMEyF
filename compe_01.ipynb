{
 "cells": [
  {
   "cell_type": "code",
   "execution_count": 1,
   "id": "330051ca",
   "metadata": {},
   "outputs": [],
   "source": [
    "import pandas as pd\n",
    "import numpy as np\n",
    "import seaborn as sns\n",
    "import matplotlib.pyplot as plt\n",
    "\n",
    "from sklearn.tree import DecisionTreeClassifier, plot_tree,  _tree\n",
    "from sklearn.model_selection import train_test_split\n",
    "from sklearn.model_selection import ShuffleSplit, StratifiedShuffleSplit\n",
    "from sklearn.ensemble import RandomForestClassifier\n",
    "from sklearn.impute import SimpleImputer\n",
    "\n",
    "from joblib import Parallel, delayed\n",
    "from pathlib import Path\n",
    "import optuna\n",
    "from optuna.visualization import plot_optimization_history, plot_param_importances, plot_slice, plot_contour\n",
    "\n",
    "from time import time\n",
    "\n",
    "import pickle"
   ]
  },
  {
   "cell_type": "code",
   "execution_count": 3,
   "id": "b8028c22",
   "metadata": {},
   "outputs": [
    {
     "name": "stdout",
     "output_type": "stream",
     "text": [
      "2.5967229744419456 GB\n"
     ]
    }
   ],
   "source": [
    "import os\n",
    "print(os.path.getsize(\"data/df_confe.csv\") / (1024**3), \"GB\")\n"
   ]
  },
  {
   "cell_type": "code",
   "execution_count": 4,
   "id": "897d6eac",
   "metadata": {},
   "outputs": [
    {
     "name": "stdout",
     "output_type": "stream",
     "text": [
      "(978439, 755)\n",
      "shape: (5, 755)\n",
      "┌───────────┬──────────┬───────────┬───────────┬───┬───────────┬───────────┬───────────┬───────────┐\n",
      "│ numero_de ┆ foto_mes ┆ active_qu ┆ cliente_v ┆ … ┆ Visa_cade ┆ Visa_cade ┆ Visa_mpag ┆ Visa_mpag │\n",
      "│ _cliente  ┆ ---      ┆ arter     ┆ ip        ┆   ┆ lantosefe ┆ lantosefe ┆ ominimo_d ┆ ominimo_d │\n",
      "│ ---       ┆ i64      ┆ ---       ┆ ---       ┆   ┆ ctivo_dif ┆ ctivo_dif ┆ iff_prev  ┆ iff_prev2 │\n",
      "│ i64       ┆          ┆ i64       ┆ i64       ┆   ┆ f_p…      ┆ f_p…      ┆ ---       ┆ ---       │\n",
      "│           ┆          ┆           ┆           ┆   ┆ ---       ┆ ---       ┆ f64       ┆ f64       │\n",
      "│           ┆          ┆           ┆           ┆   ┆ i64       ┆ i64       ┆           ┆           │\n",
      "╞═══════════╪══════════╪═══════════╪═══════════╪═══╪═══════════╪═══════════╪═══════════╪═══════════╡\n",
      "│ 249320580 ┆ 202101   ┆ 1         ┆ 0         ┆ … ┆ null      ┆ null      ┆ null      ┆ null      │\n",
      "│ 249320580 ┆ 202102   ┆ 1         ┆ 0         ┆ … ┆ null      ┆ null      ┆ 0.0       ┆ null      │\n",
      "│ 249320580 ┆ 202103   ┆ 1         ┆ 0         ┆ … ┆ null      ┆ null      ┆ 0.0       ┆ 0.0       │\n",
      "│ 249320580 ┆ 202104   ┆ 1         ┆ 0         ┆ … ┆ null      ┆ null      ┆ 0.0       ┆ 0.0       │\n",
      "│ 249320580 ┆ 202105   ┆ 1         ┆ 0         ┆ … ┆ null      ┆ null      ┆ 0.0       ┆ 0.0       │\n",
      "└───────────┴──────────┴───────────┴───────────┴───┴───────────┴───────────┴───────────┴───────────┘\n"
     ]
    }
   ],
   "source": [
    "import polars as pl\n",
    "\n",
    "# Leer CSV completo\n",
    "data = pl.read_csv(\"data/df_confe.csv\")\n",
    "\n",
    "print(data.shape)        # filas, columnas\n",
    "print(data.head())\n"
   ]
  },
  {
   "cell_type": "code",
   "execution_count": 5,
   "id": "2a3d9981",
   "metadata": {},
   "outputs": [
    {
     "name": "stdout",
     "output_type": "stream",
     "text": [
      "True\n"
     ]
    }
   ],
   "source": [
    "#tiene \"clase_ternaria\"?\n",
    "print(\"clase_ternaria\" in data.columns)"
   ]
  },
  {
   "cell_type": "code",
   "execution_count": 6,
   "id": "e652414f",
   "metadata": {},
   "outputs": [],
   "source": [
    "SEMILLAS = [550007, 550019, 550031, 550033, 550047]\n",
    "\n",
    "mes_train = 202102\n",
    "mes_validacion = 202103\n",
    "mes_test = 202104\n",
    "mes_kaggle = 202106\n",
    "ganancia_acierto = 780000\n",
    "costo_estimulo = 20000\n",
    "# ====================="
   ]
  },
  {
   "cell_type": "code",
   "execution_count": 7,
   "id": "52e2473e",
   "metadata": {},
   "outputs": [
    {
     "name": "stdout",
     "output_type": "stream",
     "text": [
      "shape: (15, 2)\n",
      "┌─────────────────────────────────┬────────┐\n",
      "│ columna                         ┆ nulos  │\n",
      "│ ---                             ┆ ---    │\n",
      "│ str                             ┆ i64    │\n",
      "╞═════════════════════════════════╪════════╡\n",
      "│ active_quarter_diff_prev2       ┆ 162155 │\n",
      "│ cliente_vip_diff_prev2          ┆ 162155 │\n",
      "│ internet_diff_prev2             ┆ 162155 │\n",
      "│ cliente_edad_diff_prev2         ┆ 162155 │\n",
      "│ cliente_antiguedad_diff_prev2   ┆ 162155 │\n",
      "│ …                               ┆ …      │\n",
      "│ cproductos_diff_prev2           ┆ 162155 │\n",
      "│ tcuentas_diff_prev2             ┆ 162155 │\n",
      "│ ccuenta_corriente_diff_prev2    ┆ 162155 │\n",
      "│ mcuenta_corriente_adicional_di… ┆ 162155 │\n",
      "│ mcuenta_corriente_diff_prev2    ┆ 162155 │\n",
      "└─────────────────────────────────┴────────┘\n"
     ]
    }
   ],
   "source": [
    "# Filtrar solo el mes de train\n",
    "df_train = data.filter(pl.col(\"foto_mes\") == mes_train)\n",
    "\n",
    "# Contar nulos por columna\n",
    "null_counts = (\n",
    "    df_train.select([\n",
    "        pl.col(col).null_count().alias(col) for col in df_train.columns\n",
    "    ])\n",
    "    .to_dict(as_series=False)\n",
    ")\n",
    "\n",
    "# Pasarlo a un DataFrame ordenado\n",
    "null_df = (\n",
    "    pl.DataFrame({\n",
    "        \"columna\": list(null_counts.keys()),\n",
    "        \"nulos\": [v[0] for v in null_counts.values()]\n",
    "    })\n",
    "    .sort(\"nulos\", descending=True)\n",
    ")\n",
    "\n",
    "#cuantos registros tiene df_train\n",
    "n_filas = df_train.height\n",
    "# Imprimir las primeras 15 filas\n",
    "print(null_df.head(15))"
   ]
  },
  {
   "cell_type": "code",
   "execution_count": 8,
   "id": "b4227064",
   "metadata": {},
   "outputs": [
    {
     "name": "stdout",
     "output_type": "stream",
     "text": [
      "shape: (20, 2)\n",
      "┌─────────────────────────────────┬────────┐\n",
      "│ columna                         ┆ nulos  │\n",
      "│ ---                             ┆ ---    │\n",
      "│ str                             ┆ i64    │\n",
      "╞═════════════════════════════════╪════════╡\n",
      "│ active_quarter_diff_prev2       ┆ 162155 │\n",
      "│ cliente_vip_diff_prev2          ┆ 162155 │\n",
      "│ internet_diff_prev2             ┆ 162155 │\n",
      "│ cliente_edad_diff_prev2         ┆ 162155 │\n",
      "│ cliente_antiguedad_diff_prev2   ┆ 162155 │\n",
      "│ …                               ┆ …      │\n",
      "│ ccaja_ahorro_diff_prev2         ┆ 162155 │\n",
      "│ mcaja_ahorro_diff_prev2         ┆ 162155 │\n",
      "│ mcaja_ahorro_adicional_diff_pr… ┆ 162155 │\n",
      "│ mcaja_ahorro_dolares_diff_prev… ┆ 162155 │\n",
      "│ cdescubierto_preacordado_diff_… ┆ 162155 │\n",
      "└─────────────────────────────────┴────────┘\n"
     ]
    }
   ],
   "source": [
    "\n",
    "#cuantas filas tiene el dataframe\n",
    "n_filas = df_train.height    \n",
    "# Imprimir las primeras 20 filas\n",
    "print(null_df.head(20))"
   ]
  },
  {
   "cell_type": "code",
   "execution_count": 9,
   "id": "36daa60f",
   "metadata": {},
   "outputs": [
    {
     "name": "stdout",
     "output_type": "stream",
     "text": [
      "True\n"
     ]
    }
   ],
   "source": [
    "#tiene mi df_train la columna \"clase_ternaria\"?\n",
    "print(\"clase_ternaria\" in df_train.columns)"
   ]
  },
  {
   "cell_type": "code",
   "execution_count": 10,
   "id": "a3b0d236",
   "metadata": {},
   "outputs": [],
   "source": [
    "# Filtrar train\n",
    "X = data.filter(pl.col(\"foto_mes\") == mes_train)\n",
    "y = X[\"clase_ternaria\"]\n",
    "X = X.drop(\"clase_ternaria\")\n",
    "\n",
    "# Filtrar validación/futuro\n",
    "X_futuro = data.filter(pl.col(\"foto_mes\") == mes_validacion)\n",
    "y_futuro = X_futuro[\"clase_ternaria\"]\n",
    "X_futuro = X_futuro.drop(\"clase_ternaria\")\n"
   ]
  },
  {
   "cell_type": "code",
   "execution_count": 11,
   "id": "5acdcace",
   "metadata": {},
   "outputs": [],
   "source": [
    "\n",
    "def ganancia_prob(y_hat, y, prop=1, class_index=1, threshold=0.025):\n",
    "  @np.vectorize\n",
    "  def ganancia_row(predicted, actual, threshold=0.025):\n",
    "    return  (predicted >= threshold) * (ganancia_acierto if actual == \"BAJA+2\" else -costo_estimulo)\n",
    "\n",
    "  return ganancia_row(y_hat[:,class_index], y).sum() / prop\n",
    "\n",
    "\n",
    "     "
   ]
  },
  {
   "cell_type": "code",
   "execution_count": 13,
   "id": "3c0f16d1",
   "metadata": {},
   "outputs": [
    {
     "ename": "MemoryError",
     "evalue": "Unable to allocate 933. MiB for an array with shape (754, 162155) and data type object",
     "output_type": "error",
     "traceback": [
      "\u001b[31m---------------------------------------------------------------------------\u001b[39m",
      "\u001b[31mMemoryError\u001b[39m                               Traceback (most recent call last)",
      "\u001b[36mCell\u001b[39m\u001b[36m \u001b[39m\u001b[32mIn[13]\u001b[39m\u001b[32m, line 10\u001b[39m\n\u001b[32m      2\u001b[39m param_opt = {\u001b[33m'\u001b[39m\u001b[33mcriterion\u001b[39m\u001b[33m'\u001b[39m: \u001b[33m'\u001b[39m\u001b[33mentropy\u001b[39m\u001b[33m'\u001b[39m,\n\u001b[32m      3\u001b[39m              \u001b[33m'\u001b[39m\u001b[33mmax_depth\u001b[39m\u001b[33m'\u001b[39m: \u001b[32m20\u001b[39m,\n\u001b[32m      4\u001b[39m              \u001b[33m'\u001b[39m\u001b[33mmin_samples_split\u001b[39m\u001b[33m'\u001b[39m: \u001b[32m145\u001b[39m,\n\u001b[32m      5\u001b[39m              \u001b[33m'\u001b[39m\u001b[33mmin_samples_leaf\u001b[39m\u001b[33m'\u001b[39m: \u001b[32m14\u001b[39m,\n\u001b[32m      6\u001b[39m              \u001b[33m'\u001b[39m\u001b[33mmax_leaf_nodes\u001b[39m\u001b[33m'\u001b[39m: \u001b[32m13\u001b[39m}\n\u001b[32m      8\u001b[39m model_opt = DecisionTreeClassifier(random_state=SEMILLAS[\u001b[32m0\u001b[39m], **param_opt)\n\u001b[32m---> \u001b[39m\u001b[32m10\u001b[39m \u001b[43mmodel_opt\u001b[49m\u001b[43m.\u001b[49m\u001b[43mfit\u001b[49m\u001b[43m(\u001b[49m\u001b[43mX\u001b[49m\u001b[43m,\u001b[49m\u001b[43m \u001b[49m\u001b[43my\u001b[49m\u001b[43m)\u001b[49m\n\u001b[32m     11\u001b[39m y_pred_opt = model_opt.predict_proba(X_futuro)\n\u001b[32m     12\u001b[39m \u001b[38;5;28mprint\u001b[39m(\u001b[33mf\u001b[39m\u001b[33m\"\u001b[39m\u001b[33mGanancia de modelo Opt: \u001b[39m\u001b[38;5;132;01m{\u001b[39;00mganancia_prob(y_pred_opt,\u001b[38;5;250m \u001b[39my_futuro)\u001b[38;5;132;01m}\u001b[39;00m\u001b[33m\"\u001b[39m)\n",
      "\u001b[36mFile \u001b[39m\u001b[32mc:\\Users\\Flor\\Documents\\UBA\\DMEyF\\venv\\Lib\\site-packages\\sklearn\\base.py:1365\u001b[39m, in \u001b[36m_fit_context.<locals>.decorator.<locals>.wrapper\u001b[39m\u001b[34m(estimator, *args, **kwargs)\u001b[39m\n\u001b[32m   1358\u001b[39m     estimator._validate_params()\n\u001b[32m   1360\u001b[39m \u001b[38;5;28;01mwith\u001b[39;00m config_context(\n\u001b[32m   1361\u001b[39m     skip_parameter_validation=(\n\u001b[32m   1362\u001b[39m         prefer_skip_nested_validation \u001b[38;5;129;01mor\u001b[39;00m global_skip_validation\n\u001b[32m   1363\u001b[39m     )\n\u001b[32m   1364\u001b[39m ):\n\u001b[32m-> \u001b[39m\u001b[32m1365\u001b[39m     \u001b[38;5;28;01mreturn\u001b[39;00m \u001b[43mfit_method\u001b[49m\u001b[43m(\u001b[49m\u001b[43mestimator\u001b[49m\u001b[43m,\u001b[49m\u001b[43m \u001b[49m\u001b[43m*\u001b[49m\u001b[43margs\u001b[49m\u001b[43m,\u001b[49m\u001b[43m \u001b[49m\u001b[43m*\u001b[49m\u001b[43m*\u001b[49m\u001b[43mkwargs\u001b[49m\u001b[43m)\u001b[49m\n",
      "\u001b[36mFile \u001b[39m\u001b[32mc:\\Users\\Flor\\Documents\\UBA\\DMEyF\\venv\\Lib\\site-packages\\sklearn\\tree\\_classes.py:1024\u001b[39m, in \u001b[36mDecisionTreeClassifier.fit\u001b[39m\u001b[34m(self, X, y, sample_weight, check_input)\u001b[39m\n\u001b[32m    993\u001b[39m \u001b[38;5;129m@_fit_context\u001b[39m(prefer_skip_nested_validation=\u001b[38;5;28;01mTrue\u001b[39;00m)\n\u001b[32m    994\u001b[39m \u001b[38;5;28;01mdef\u001b[39;00m\u001b[38;5;250m \u001b[39m\u001b[34mfit\u001b[39m(\u001b[38;5;28mself\u001b[39m, X, y, sample_weight=\u001b[38;5;28;01mNone\u001b[39;00m, check_input=\u001b[38;5;28;01mTrue\u001b[39;00m):\n\u001b[32m    995\u001b[39m \u001b[38;5;250m    \u001b[39m\u001b[33;03m\"\"\"Build a decision tree classifier from the training set (X, y).\u001b[39;00m\n\u001b[32m    996\u001b[39m \n\u001b[32m    997\u001b[39m \u001b[33;03m    Parameters\u001b[39;00m\n\u001b[32m   (...)\u001b[39m\u001b[32m   1021\u001b[39m \u001b[33;03m        Fitted estimator.\u001b[39;00m\n\u001b[32m   1022\u001b[39m \u001b[33;03m    \"\"\"\u001b[39;00m\n\u001b[32m-> \u001b[39m\u001b[32m1024\u001b[39m     \u001b[38;5;28;43msuper\u001b[39;49m\u001b[43m(\u001b[49m\u001b[43m)\u001b[49m\u001b[43m.\u001b[49m\u001b[43m_fit\u001b[49m\u001b[43m(\u001b[49m\n\u001b[32m   1025\u001b[39m \u001b[43m        \u001b[49m\u001b[43mX\u001b[49m\u001b[43m,\u001b[49m\n\u001b[32m   1026\u001b[39m \u001b[43m        \u001b[49m\u001b[43my\u001b[49m\u001b[43m,\u001b[49m\n\u001b[32m   1027\u001b[39m \u001b[43m        \u001b[49m\u001b[43msample_weight\u001b[49m\u001b[43m=\u001b[49m\u001b[43msample_weight\u001b[49m\u001b[43m,\u001b[49m\n\u001b[32m   1028\u001b[39m \u001b[43m        \u001b[49m\u001b[43mcheck_input\u001b[49m\u001b[43m=\u001b[49m\u001b[43mcheck_input\u001b[49m\u001b[43m,\u001b[49m\n\u001b[32m   1029\u001b[39m \u001b[43m    \u001b[49m\u001b[43m)\u001b[49m\n\u001b[32m   1030\u001b[39m     \u001b[38;5;28;01mreturn\u001b[39;00m \u001b[38;5;28mself\u001b[39m\n",
      "\u001b[36mFile \u001b[39m\u001b[32mc:\\Users\\Flor\\Documents\\UBA\\DMEyF\\venv\\Lib\\site-packages\\sklearn\\tree\\_classes.py:252\u001b[39m, in \u001b[36mBaseDecisionTree._fit\u001b[39m\u001b[34m(self, X, y, sample_weight, check_input, missing_values_in_feature_mask)\u001b[39m\n\u001b[32m    248\u001b[39m check_X_params = \u001b[38;5;28mdict\u001b[39m(\n\u001b[32m    249\u001b[39m     dtype=DTYPE, accept_sparse=\u001b[33m\"\u001b[39m\u001b[33mcsc\u001b[39m\u001b[33m\"\u001b[39m, ensure_all_finite=\u001b[38;5;28;01mFalse\u001b[39;00m\n\u001b[32m    250\u001b[39m )\n\u001b[32m    251\u001b[39m check_y_params = \u001b[38;5;28mdict\u001b[39m(ensure_2d=\u001b[38;5;28;01mFalse\u001b[39;00m, dtype=\u001b[38;5;28;01mNone\u001b[39;00m)\n\u001b[32m--> \u001b[39m\u001b[32m252\u001b[39m X, y = \u001b[43mvalidate_data\u001b[49m\u001b[43m(\u001b[49m\n\u001b[32m    253\u001b[39m \u001b[43m    \u001b[49m\u001b[38;5;28;43mself\u001b[39;49m\u001b[43m,\u001b[49m\u001b[43m \u001b[49m\u001b[43mX\u001b[49m\u001b[43m,\u001b[49m\u001b[43m \u001b[49m\u001b[43my\u001b[49m\u001b[43m,\u001b[49m\u001b[43m \u001b[49m\u001b[43mvalidate_separately\u001b[49m\u001b[43m=\u001b[49m\u001b[43m(\u001b[49m\u001b[43mcheck_X_params\u001b[49m\u001b[43m,\u001b[49m\u001b[43m \u001b[49m\u001b[43mcheck_y_params\u001b[49m\u001b[43m)\u001b[49m\n\u001b[32m    254\u001b[39m \u001b[43m\u001b[49m\u001b[43m)\u001b[49m\n\u001b[32m    256\u001b[39m missing_values_in_feature_mask = (\n\u001b[32m    257\u001b[39m     \u001b[38;5;28mself\u001b[39m._compute_missing_values_in_feature_mask(X)\n\u001b[32m    258\u001b[39m )\n\u001b[32m    259\u001b[39m \u001b[38;5;28;01mif\u001b[39;00m issparse(X):\n",
      "\u001b[36mFile \u001b[39m\u001b[32mc:\\Users\\Flor\\Documents\\UBA\\DMEyF\\venv\\Lib\\site-packages\\sklearn\\utils\\validation.py:2966\u001b[39m, in \u001b[36mvalidate_data\u001b[39m\u001b[34m(_estimator, X, y, reset, validate_separately, skip_check_array, **check_params)\u001b[39m\n\u001b[32m   2964\u001b[39m \u001b[38;5;28;01mif\u001b[39;00m \u001b[33m\"\u001b[39m\u001b[33mestimator\u001b[39m\u001b[33m\"\u001b[39m \u001b[38;5;129;01mnot\u001b[39;00m \u001b[38;5;129;01min\u001b[39;00m check_X_params:\n\u001b[32m   2965\u001b[39m     check_X_params = {**default_check_params, **check_X_params}\n\u001b[32m-> \u001b[39m\u001b[32m2966\u001b[39m X = \u001b[43mcheck_array\u001b[49m\u001b[43m(\u001b[49m\u001b[43mX\u001b[49m\u001b[43m,\u001b[49m\u001b[43m \u001b[49m\u001b[43minput_name\u001b[49m\u001b[43m=\u001b[49m\u001b[33;43m\"\u001b[39;49m\u001b[33;43mX\u001b[39;49m\u001b[33;43m\"\u001b[39;49m\u001b[43m,\u001b[49m\u001b[43m \u001b[49m\u001b[43m*\u001b[49m\u001b[43m*\u001b[49m\u001b[43mcheck_X_params\u001b[49m\u001b[43m)\u001b[49m\n\u001b[32m   2967\u001b[39m \u001b[38;5;28;01mif\u001b[39;00m \u001b[33m\"\u001b[39m\u001b[33mestimator\u001b[39m\u001b[33m\"\u001b[39m \u001b[38;5;129;01mnot\u001b[39;00m \u001b[38;5;129;01min\u001b[39;00m check_y_params:\n\u001b[32m   2968\u001b[39m     check_y_params = {**default_check_params, **check_y_params}\n",
      "\u001b[36mFile \u001b[39m\u001b[32mc:\\Users\\Flor\\Documents\\UBA\\DMEyF\\venv\\Lib\\site-packages\\sklearn\\utils\\validation.py:1053\u001b[39m, in \u001b[36mcheck_array\u001b[39m\u001b[34m(array, accept_sparse, accept_large_sparse, dtype, order, copy, force_writeable, force_all_finite, ensure_all_finite, ensure_non_negative, ensure_2d, allow_nd, ensure_min_samples, ensure_min_features, estimator, input_name)\u001b[39m\n\u001b[32m   1051\u001b[39m         array = xp.astype(array, dtype, copy=\u001b[38;5;28;01mFalse\u001b[39;00m)\n\u001b[32m   1052\u001b[39m     \u001b[38;5;28;01melse\u001b[39;00m:\n\u001b[32m-> \u001b[39m\u001b[32m1053\u001b[39m         array = \u001b[43m_asarray_with_order\u001b[49m\u001b[43m(\u001b[49m\u001b[43marray\u001b[49m\u001b[43m,\u001b[49m\u001b[43m \u001b[49m\u001b[43morder\u001b[49m\u001b[43m=\u001b[49m\u001b[43morder\u001b[49m\u001b[43m,\u001b[49m\u001b[43m \u001b[49m\u001b[43mdtype\u001b[49m\u001b[43m=\u001b[49m\u001b[43mdtype\u001b[49m\u001b[43m,\u001b[49m\u001b[43m \u001b[49m\u001b[43mxp\u001b[49m\u001b[43m=\u001b[49m\u001b[43mxp\u001b[49m\u001b[43m)\u001b[49m\n\u001b[32m   1054\u001b[39m \u001b[38;5;28;01mexcept\u001b[39;00m ComplexWarning \u001b[38;5;28;01mas\u001b[39;00m complex_warning:\n\u001b[32m   1055\u001b[39m     \u001b[38;5;28;01mraise\u001b[39;00m \u001b[38;5;167;01mValueError\u001b[39;00m(\n\u001b[32m   1056\u001b[39m         \u001b[33m\"\u001b[39m\u001b[33mComplex data not supported\u001b[39m\u001b[38;5;130;01m\\n\u001b[39;00m\u001b[38;5;132;01m{}\u001b[39;00m\u001b[38;5;130;01m\\n\u001b[39;00m\u001b[33m\"\u001b[39m.format(array)\n\u001b[32m   1057\u001b[39m     ) \u001b[38;5;28;01mfrom\u001b[39;00m\u001b[38;5;250m \u001b[39m\u001b[34;01mcomplex_warning\u001b[39;00m\n",
      "\u001b[36mFile \u001b[39m\u001b[32mc:\\Users\\Flor\\Documents\\UBA\\DMEyF\\venv\\Lib\\site-packages\\sklearn\\utils\\_array_api.py:757\u001b[39m, in \u001b[36m_asarray_with_order\u001b[39m\u001b[34m(array, dtype, order, copy, xp, device)\u001b[39m\n\u001b[32m    755\u001b[39m     array = numpy.array(array, order=order, dtype=dtype)\n\u001b[32m    756\u001b[39m \u001b[38;5;28;01melse\u001b[39;00m:\n\u001b[32m--> \u001b[39m\u001b[32m757\u001b[39m     array = \u001b[43mnumpy\u001b[49m\u001b[43m.\u001b[49m\u001b[43masarray\u001b[49m\u001b[43m(\u001b[49m\u001b[43marray\u001b[49m\u001b[43m,\u001b[49m\u001b[43m \u001b[49m\u001b[43morder\u001b[49m\u001b[43m=\u001b[49m\u001b[43morder\u001b[49m\u001b[43m,\u001b[49m\u001b[43m \u001b[49m\u001b[43mdtype\u001b[49m\u001b[43m=\u001b[49m\u001b[43mdtype\u001b[49m\u001b[43m)\u001b[49m\n\u001b[32m    759\u001b[39m \u001b[38;5;66;03m# At this point array is a NumPy ndarray. We convert it to an array\u001b[39;00m\n\u001b[32m    760\u001b[39m \u001b[38;5;66;03m# container that is consistent with the input's namespace.\u001b[39;00m\n\u001b[32m    761\u001b[39m \u001b[38;5;28;01mreturn\u001b[39;00m xp.asarray(array)\n",
      "\u001b[36mFile \u001b[39m\u001b[32mc:\\Users\\Flor\\Documents\\UBA\\DMEyF\\venv\\Lib\\site-packages\\polars\\dataframe\\frame.py:981\u001b[39m, in \u001b[36mDataFrame.__array__\u001b[39m\u001b[34m(self, dtype, copy)\u001b[39m\n\u001b[32m    978\u001b[39m     msg = \u001b[33mf\u001b[39m\u001b[33m\"\u001b[39m\u001b[33minvalid input for `copy`: \u001b[39m\u001b[38;5;132;01m{\u001b[39;00mcopy\u001b[38;5;132;01m!r}\u001b[39;00m\u001b[33m\"\u001b[39m\n\u001b[32m    979\u001b[39m     \u001b[38;5;28;01mraise\u001b[39;00m \u001b[38;5;167;01mTypeError\u001b[39;00m(msg)\n\u001b[32m--> \u001b[39m\u001b[32m981\u001b[39m arr = \u001b[38;5;28;43mself\u001b[39;49m\u001b[43m.\u001b[49m\u001b[43mto_numpy\u001b[49m\u001b[43m(\u001b[49m\u001b[43mwritable\u001b[49m\u001b[43m=\u001b[49m\u001b[43mwritable\u001b[49m\u001b[43m,\u001b[49m\u001b[43m \u001b[49m\u001b[43mallow_copy\u001b[49m\u001b[43m=\u001b[49m\u001b[43mallow_copy\u001b[49m\u001b[43m)\u001b[49m\n\u001b[32m    983\u001b[39m \u001b[38;5;28;01mif\u001b[39;00m dtype \u001b[38;5;129;01mis\u001b[39;00m \u001b[38;5;129;01mnot\u001b[39;00m \u001b[38;5;28;01mNone\u001b[39;00m \u001b[38;5;129;01mand\u001b[39;00m dtype != arr.dtype:\n\u001b[32m    984\u001b[39m     \u001b[38;5;28;01mif\u001b[39;00m copy \u001b[38;5;129;01mis\u001b[39;00m \u001b[38;5;28;01mFalse\u001b[39;00m:\n\u001b[32m    985\u001b[39m         \u001b[38;5;66;03m# TODO: Only raise when data must be copied\u001b[39;00m\n",
      "\u001b[36mFile \u001b[39m\u001b[32mc:\\Users\\Flor\\Documents\\UBA\\DMEyF\\venv\\Lib\\site-packages\\polars\\dataframe\\frame.py:2021\u001b[39m, in \u001b[36mDataFrame.to_numpy\u001b[39m\u001b[34m(self, order, writable, allow_copy, structured, use_pyarrow)\u001b[39m\n\u001b[32m   2018\u001b[39m         out[c] = arrays[idx]\n\u001b[32m   2019\u001b[39m     \u001b[38;5;28;01mreturn\u001b[39;00m out\n\u001b[32m-> \u001b[39m\u001b[32m2021\u001b[39m \u001b[38;5;28;01mreturn\u001b[39;00m \u001b[38;5;28;43mself\u001b[39;49m\u001b[43m.\u001b[49m\u001b[43m_df\u001b[49m\u001b[43m.\u001b[49m\u001b[43mto_numpy\u001b[49m\u001b[43m(\u001b[49m\u001b[43morder\u001b[49m\u001b[43m,\u001b[49m\u001b[43m \u001b[49m\u001b[43mwritable\u001b[49m\u001b[43m=\u001b[49m\u001b[43mwritable\u001b[49m\u001b[43m,\u001b[49m\u001b[43m \u001b[49m\u001b[43mallow_copy\u001b[49m\u001b[43m=\u001b[49m\u001b[43mallow_copy\u001b[49m\u001b[43m)\u001b[49m\n",
      "\u001b[36mFile \u001b[39m\u001b[32mc:\\Users\\Flor\\Documents\\UBA\\DMEyF\\venv\\Lib\\site-packages\\numpy\\_core\\shape_base.py:292\u001b[39m, in \u001b[36mvstack\u001b[39m\u001b[34m(tup, dtype, casting)\u001b[39m\n\u001b[32m    290\u001b[39m \u001b[38;5;28;01mif\u001b[39;00m \u001b[38;5;129;01mnot\u001b[39;00m \u001b[38;5;28misinstance\u001b[39m(arrs, \u001b[38;5;28mtuple\u001b[39m):\n\u001b[32m    291\u001b[39m     arrs = (arrs,)\n\u001b[32m--> \u001b[39m\u001b[32m292\u001b[39m \u001b[38;5;28;01mreturn\u001b[39;00m \u001b[43m_nx\u001b[49m\u001b[43m.\u001b[49m\u001b[43mconcatenate\u001b[49m\u001b[43m(\u001b[49m\u001b[43marrs\u001b[49m\u001b[43m,\u001b[49m\u001b[43m \u001b[49m\u001b[32;43m0\u001b[39;49m\u001b[43m,\u001b[49m\u001b[43m \u001b[49m\u001b[43mdtype\u001b[49m\u001b[43m=\u001b[49m\u001b[43mdtype\u001b[49m\u001b[43m,\u001b[49m\u001b[43m \u001b[49m\u001b[43mcasting\u001b[49m\u001b[43m=\u001b[49m\u001b[43mcasting\u001b[49m\u001b[43m)\u001b[49m\n",
      "\u001b[31mMemoryError\u001b[39m: Unable to allocate 933. MiB for an array with shape (754, 162155) and data type object"
     ]
    }
   ],
   "source": [
    "#Parametros optimizados\n",
    "param_opt = {'criterion': 'entropy',\n",
    "             'max_depth': 20,\n",
    "             'min_samples_split': 145,\n",
    "             'min_samples_leaf': 14,\n",
    "             'max_leaf_nodes': 13}\n",
    "\n",
    "model_opt = DecisionTreeClassifier(random_state=SEMILLAS[0], **param_opt)\n",
    "\n",
    "model_opt.fit(X, y)\n",
    "y_pred_opt = model_opt.predict_proba(X_futuro)\n",
    "print(f\"Ganancia de modelo Opt: {ganancia_prob(y_pred_opt, y_futuro)}\")"
   ]
  },
  {
   "cell_type": "markdown",
   "id": "4138f472",
   "metadata": {},
   "source": [
    "#Ganancia modelo clase 211 MARS sin nada"
   ]
  },
  {
   "cell_type": "code",
   "execution_count": null,
   "id": "6b4b8d43",
   "metadata": {},
   "outputs": [],
   "source": []
  },
  {
   "cell_type": "markdown",
   "id": "4a435b72",
   "metadata": {},
   "source": [
    "## DF FINAL KAGGLE\n"
   ]
  },
  {
   "cell_type": "code",
   "execution_count": null,
   "id": "2dfd637d",
   "metadata": {},
   "outputs": [
    {
     "data": {
      "text/html": [
       "<div>\n",
       "<style scoped>\n",
       "    .dataframe tbody tr th:only-of-type {\n",
       "        vertical-align: middle;\n",
       "    }\n",
       "\n",
       "    .dataframe tbody tr th {\n",
       "        vertical-align: top;\n",
       "    }\n",
       "\n",
       "    .dataframe thead th {\n",
       "        text-align: right;\n",
       "    }\n",
       "</style>\n",
       "<table border=\"1\" class=\"dataframe\">\n",
       "  <thead>\n",
       "    <tr style=\"text-align: right;\">\n",
       "      <th></th>\n",
       "      <th>numero_de_cliente</th>\n",
       "      <th>Predicted</th>\n",
       "    </tr>\n",
       "  </thead>\n",
       "  <tbody>\n",
       "    <tr>\n",
       "      <th>5</th>\n",
       "      <td>249221323</td>\n",
       "      <td>0</td>\n",
       "    </tr>\n",
       "    <tr>\n",
       "      <th>11</th>\n",
       "      <td>249227600</td>\n",
       "      <td>0</td>\n",
       "    </tr>\n",
       "    <tr>\n",
       "      <th>17</th>\n",
       "      <td>249234235</td>\n",
       "      <td>0</td>\n",
       "    </tr>\n",
       "    <tr>\n",
       "      <th>23</th>\n",
       "      <td>249244449</td>\n",
       "      <td>0</td>\n",
       "    </tr>\n",
       "    <tr>\n",
       "      <th>29</th>\n",
       "      <td>249244739</td>\n",
       "      <td>0</td>\n",
       "    </tr>\n",
       "  </tbody>\n",
       "</table>\n",
       "</div>"
      ],
      "text/plain": [
       "    numero_de_cliente  Predicted\n",
       "5           249221323          0\n",
       "11          249227600          0\n",
       "17          249234235          0\n",
       "23          249244449          0\n",
       "29          249244739          0"
      ]
     },
     "execution_count": 11,
     "metadata": {},
     "output_type": "execute_result"
    }
   ],
   "source": [
    "# Concatenar los datos de entrenamiento\n",
    "meses_train = [mes_train, mes_validacion, mes_test]\n",
    "train_data = data[data['foto_mes'].isin(meses_train)]\n",
    "\n",
    "X_train = train_data.drop(columns=['clase_ternaria'])  # numero_de_cliente queda\n",
    "y_train = train_data['clase_ternaria']\n",
    "\n",
    "# Datos de Kaggle\n",
    "X_kaggle = data[data['foto_mes'] == mes_kaggle]\n",
    "clientes_kaggle = X_kaggle['numero_de_cliente']\n",
    "X_kaggle = X_kaggle.drop(columns=['clase_ternaria'])  # numero_de_cliente queda\n",
    "\n",
    "# Modelo\n",
    "param_opt = {'criterion': 'entropy',\n",
    "             'max_depth': 20,\n",
    "             'min_samples_split': 145,\n",
    "             'min_samples_leaf': 14,\n",
    "             'max_leaf_nodes': 13}\n",
    "\n",
    "model_opt = DecisionTreeClassifier(random_state=SEMILLAS[0], **param_opt)\n",
    "model_opt.fit(X_train, y_train)\n",
    "\n",
    "# Predicciones probabilísticas\n",
    "y_pred_prob = model_opt.predict_proba(X_kaggle)\n",
    "\n",
    "# Transformar probabilidades en 0/1 con threshold 0.025\n",
    "threshold = 0.025\n",
    "class_index = list(model_opt.classes_).index(\"BAJA+2\")\n",
    "y_pred_bin = (y_pred_prob[:, class_index] > threshold).astype(int)\n",
    "\n",
    "# Crear DataFrame final con las dos columnas\n",
    "submission = pd.DataFrame({\n",
    "    'numero_de_cliente': clientes_kaggle,\n",
    "    'Predicted': y_pred_bin\n",
    "})\n",
    "\n",
    "submission.to_csv(\"predicciones_kaggle.csv\", index=False)\n",
    "submission.head()"
   ]
  },
  {
   "cell_type": "code",
   "execution_count": null,
   "id": "24a41ed2",
   "metadata": {},
   "outputs": [
    {
     "name": "stdout",
     "output_type": "stream",
     "text": [
      "(164313, 2)\n",
      "Index(['numero_de_cliente', 'Predicted'], dtype='object')\n"
     ]
    }
   ],
   "source": [
    "# Número de filas\n",
    "print(submission.shape)  # devuelve (filas, columnas)\n",
    "\n",
    "# Columnas\n",
    "print(submission.columns)  # debe dar Index(['numero_de_cliente', 'Predicted'], dtype='object')"
   ]
  }
 ],
 "metadata": {
  "kernelspec": {
   "display_name": "venv",
   "language": "python",
   "name": "python3"
  },
  "language_info": {
   "codemirror_mode": {
    "name": "ipython",
    "version": 3
   },
   "file_extension": ".py",
   "mimetype": "text/x-python",
   "name": "python",
   "nbconvert_exporter": "python",
   "pygments_lexer": "ipython3",
   "version": "3.11.9"
  }
 },
 "nbformat": 4,
 "nbformat_minor": 5
}
